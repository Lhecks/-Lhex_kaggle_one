{
 "cells": [
  {
   "cell_type": "markdown",
   "id": "87298674",
   "metadata": {
    "papermill": {
     "duration": 0.007596,
     "end_time": "2024-03-21T13:24:27.435895",
     "exception": false,
     "start_time": "2024-03-21T13:24:27.428299",
     "status": "completed"
    },
    "tags": []
   },
   "source": [
    "**This notebook is an exercise in the [Pandas](https://www.kaggle.com/learn/pandas) course.  You can reference the tutorial at [this link](https://www.kaggle.com/residentmario/summary-functions-and-maps).**\n",
    "\n",
    "---\n"
   ]
  },
  {
   "cell_type": "markdown",
   "id": "b6b81e17",
   "metadata": {
    "papermill": {
     "duration": 0.005902,
     "end_time": "2024-03-21T13:24:27.448130",
     "exception": false,
     "start_time": "2024-03-21T13:24:27.442228",
     "status": "completed"
    },
    "tags": []
   },
   "source": [
    "# Introduction\n",
    "\n",
    "Now you are ready to get a deeper understanding of your data.\n",
    "\n",
    "Run the following cell to load your data and some utility functions (including code to check your answers)."
   ]
  },
  {
   "cell_type": "code",
   "execution_count": 1,
   "id": "7a866d7c",
   "metadata": {
    "execution": {
     "iopub.execute_input": "2024-03-21T13:24:27.462688Z",
     "iopub.status.busy": "2024-03-21T13:24:27.461972Z",
     "iopub.status.idle": "2024-03-21T13:24:35.184440Z",
     "shell.execute_reply": "2024-03-21T13:24:35.183293Z"
    },
    "papermill": {
     "duration": 7.732392,
     "end_time": "2024-03-21T13:24:35.186654",
     "exception": false,
     "start_time": "2024-03-21T13:24:27.454262",
     "status": "completed"
    },
    "tags": []
   },
   "outputs": [
    {
     "name": "stdout",
     "output_type": "stream",
     "text": [
      "Setup complete.\n"
     ]
    },
    {
     "data": {
      "text/html": [
       "<div>\n",
       "<style scoped>\n",
       "    .dataframe tbody tr th:only-of-type {\n",
       "        vertical-align: middle;\n",
       "    }\n",
       "\n",
       "    .dataframe tbody tr th {\n",
       "        vertical-align: top;\n",
       "    }\n",
       "\n",
       "    .dataframe thead th {\n",
       "        text-align: right;\n",
       "    }\n",
       "</style>\n",
       "<table border=\"1\" class=\"dataframe\">\n",
       "  <thead>\n",
       "    <tr style=\"text-align: right;\">\n",
       "      <th></th>\n",
       "      <th>country</th>\n",
       "      <th>description</th>\n",
       "      <th>designation</th>\n",
       "      <th>points</th>\n",
       "      <th>price</th>\n",
       "      <th>province</th>\n",
       "      <th>region_1</th>\n",
       "      <th>region_2</th>\n",
       "      <th>taster_name</th>\n",
       "      <th>taster_twitter_handle</th>\n",
       "      <th>title</th>\n",
       "      <th>variety</th>\n",
       "      <th>winery</th>\n",
       "    </tr>\n",
       "  </thead>\n",
       "  <tbody>\n",
       "    <tr>\n",
       "      <th>0</th>\n",
       "      <td>Italy</td>\n",
       "      <td>Aromas include tropical fruit, broom, brimston...</td>\n",
       "      <td>Vulkà Bianco</td>\n",
       "      <td>87</td>\n",
       "      <td>NaN</td>\n",
       "      <td>Sicily &amp; Sardinia</td>\n",
       "      <td>Etna</td>\n",
       "      <td>NaN</td>\n",
       "      <td>Kerin O’Keefe</td>\n",
       "      <td>@kerinokeefe</td>\n",
       "      <td>Nicosia 2013 Vulkà Bianco  (Etna)</td>\n",
       "      <td>White Blend</td>\n",
       "      <td>Nicosia</td>\n",
       "    </tr>\n",
       "    <tr>\n",
       "      <th>1</th>\n",
       "      <td>Portugal</td>\n",
       "      <td>This is ripe and fruity, a wine that is smooth...</td>\n",
       "      <td>Avidagos</td>\n",
       "      <td>87</td>\n",
       "      <td>15.0</td>\n",
       "      <td>Douro</td>\n",
       "      <td>NaN</td>\n",
       "      <td>NaN</td>\n",
       "      <td>Roger Voss</td>\n",
       "      <td>@vossroger</td>\n",
       "      <td>Quinta dos Avidagos 2011 Avidagos Red (Douro)</td>\n",
       "      <td>Portuguese Red</td>\n",
       "      <td>Quinta dos Avidagos</td>\n",
       "    </tr>\n",
       "    <tr>\n",
       "      <th>2</th>\n",
       "      <td>US</td>\n",
       "      <td>Tart and snappy, the flavors of lime flesh and...</td>\n",
       "      <td>NaN</td>\n",
       "      <td>87</td>\n",
       "      <td>14.0</td>\n",
       "      <td>Oregon</td>\n",
       "      <td>Willamette Valley</td>\n",
       "      <td>Willamette Valley</td>\n",
       "      <td>Paul Gregutt</td>\n",
       "      <td>@paulgwine</td>\n",
       "      <td>Rainstorm 2013 Pinot Gris (Willamette Valley)</td>\n",
       "      <td>Pinot Gris</td>\n",
       "      <td>Rainstorm</td>\n",
       "    </tr>\n",
       "    <tr>\n",
       "      <th>3</th>\n",
       "      <td>US</td>\n",
       "      <td>Pineapple rind, lemon pith and orange blossom ...</td>\n",
       "      <td>Reserve Late Harvest</td>\n",
       "      <td>87</td>\n",
       "      <td>13.0</td>\n",
       "      <td>Michigan</td>\n",
       "      <td>Lake Michigan Shore</td>\n",
       "      <td>NaN</td>\n",
       "      <td>Alexander Peartree</td>\n",
       "      <td>NaN</td>\n",
       "      <td>St. Julian 2013 Reserve Late Harvest Riesling ...</td>\n",
       "      <td>Riesling</td>\n",
       "      <td>St. Julian</td>\n",
       "    </tr>\n",
       "    <tr>\n",
       "      <th>4</th>\n",
       "      <td>US</td>\n",
       "      <td>Much like the regular bottling from 2012, this...</td>\n",
       "      <td>Vintner's Reserve Wild Child Block</td>\n",
       "      <td>87</td>\n",
       "      <td>65.0</td>\n",
       "      <td>Oregon</td>\n",
       "      <td>Willamette Valley</td>\n",
       "      <td>Willamette Valley</td>\n",
       "      <td>Paul Gregutt</td>\n",
       "      <td>@paulgwine</td>\n",
       "      <td>Sweet Cheeks 2012 Vintner's Reserve Wild Child...</td>\n",
       "      <td>Pinot Noir</td>\n",
       "      <td>Sweet Cheeks</td>\n",
       "    </tr>\n",
       "  </tbody>\n",
       "</table>\n",
       "</div>"
      ],
      "text/plain": [
       "    country                                        description  \\\n",
       "0     Italy  Aromas include tropical fruit, broom, brimston...   \n",
       "1  Portugal  This is ripe and fruity, a wine that is smooth...   \n",
       "2        US  Tart and snappy, the flavors of lime flesh and...   \n",
       "3        US  Pineapple rind, lemon pith and orange blossom ...   \n",
       "4        US  Much like the regular bottling from 2012, this...   \n",
       "\n",
       "                          designation  points  price           province  \\\n",
       "0                        Vulkà Bianco      87    NaN  Sicily & Sardinia   \n",
       "1                            Avidagos      87   15.0              Douro   \n",
       "2                                 NaN      87   14.0             Oregon   \n",
       "3                Reserve Late Harvest      87   13.0           Michigan   \n",
       "4  Vintner's Reserve Wild Child Block      87   65.0             Oregon   \n",
       "\n",
       "              region_1           region_2         taster_name  \\\n",
       "0                 Etna                NaN       Kerin O’Keefe   \n",
       "1                  NaN                NaN          Roger Voss   \n",
       "2    Willamette Valley  Willamette Valley        Paul Gregutt   \n",
       "3  Lake Michigan Shore                NaN  Alexander Peartree   \n",
       "4    Willamette Valley  Willamette Valley        Paul Gregutt   \n",
       "\n",
       "  taster_twitter_handle                                              title  \\\n",
       "0          @kerinokeefe                  Nicosia 2013 Vulkà Bianco  (Etna)   \n",
       "1            @vossroger      Quinta dos Avidagos 2011 Avidagos Red (Douro)   \n",
       "2           @paulgwine       Rainstorm 2013 Pinot Gris (Willamette Valley)   \n",
       "3                   NaN  St. Julian 2013 Reserve Late Harvest Riesling ...   \n",
       "4           @paulgwine   Sweet Cheeks 2012 Vintner's Reserve Wild Child...   \n",
       "\n",
       "          variety               winery  \n",
       "0     White Blend              Nicosia  \n",
       "1  Portuguese Red  Quinta dos Avidagos  \n",
       "2      Pinot Gris            Rainstorm  \n",
       "3        Riesling           St. Julian  \n",
       "4      Pinot Noir         Sweet Cheeks  "
      ]
     },
     "execution_count": 1,
     "metadata": {},
     "output_type": "execute_result"
    }
   ],
   "source": [
    "import pandas as pd\n",
    "pd.set_option(\"display.max_rows\", 5)\n",
    "reviews = pd.read_csv(\"../input/wine-reviews/winemag-data-130k-v2.csv\", index_col=0)\n",
    "\n",
    "from learntools.core import binder; binder.bind(globals())\n",
    "from learntools.pandas.summary_functions_and_maps import *\n",
    "print(\"Setup complete.\")\n",
    "\n",
    "reviews.head()"
   ]
  },
  {
   "cell_type": "markdown",
   "id": "8971b406",
   "metadata": {
    "papermill": {
     "duration": 0.006388,
     "end_time": "2024-03-21T13:24:35.199932",
     "exception": false,
     "start_time": "2024-03-21T13:24:35.193544",
     "status": "completed"
    },
    "tags": []
   },
   "source": [
    "# Exercises"
   ]
  },
  {
   "cell_type": "markdown",
   "id": "20ee5f4c",
   "metadata": {
    "papermill": {
     "duration": 0.006367,
     "end_time": "2024-03-21T13:24:35.213091",
     "exception": false,
     "start_time": "2024-03-21T13:24:35.206724",
     "status": "completed"
    },
    "tags": []
   },
   "source": [
    "## 1.\n",
    "\n",
    "What is the median of the `points` column in the `reviews` DataFrame?"
   ]
  },
  {
   "cell_type": "code",
   "execution_count": 2,
   "id": "68a25ece",
   "metadata": {
    "execution": {
     "iopub.execute_input": "2024-03-21T13:24:35.228167Z",
     "iopub.status.busy": "2024-03-21T13:24:35.227756Z",
     "iopub.status.idle": "2024-03-21T13:24:35.239692Z",
     "shell.execute_reply": "2024-03-21T13:24:35.238355Z"
    },
    "papermill": {
     "duration": 0.022636,
     "end_time": "2024-03-21T13:24:35.242278",
     "exception": false,
     "start_time": "2024-03-21T13:24:35.219642",
     "status": "completed"
    },
    "tags": []
   },
   "outputs": [
    {
     "data": {
      "application/javascript": [
       "parent.postMessage({\"jupyterEvent\": \"custom.exercise_interaction\", \"data\": {\"outcomeType\": 1, \"valueTowardsCompletion\": 0.14285714285714285, \"interactionType\": 1, \"questionType\": 1, \"questionId\": \"1_MedianPoints\", \"learnToolsVersion\": \"0.3.4\", \"failureMessage\": \"\", \"exceptionClass\": \"\", \"trace\": \"\"}}, \"*\")"
      ],
      "text/plain": [
       "<IPython.core.display.Javascript object>"
      ]
     },
     "metadata": {},
     "output_type": "display_data"
    },
    {
     "data": {
      "text/markdown": [
       "<span style=\"color:#33cc33\">Correct</span>"
      ],
      "text/plain": [
       "Correct"
      ]
     },
     "metadata": {},
     "output_type": "display_data"
    }
   ],
   "source": [
    "median_points = reviews.points.median()\n",
    "\n",
    "# Check your answer\n",
    "q1.check()"
   ]
  },
  {
   "cell_type": "code",
   "execution_count": 3,
   "id": "ed41bce9",
   "metadata": {
    "execution": {
     "iopub.execute_input": "2024-03-21T13:24:35.258177Z",
     "iopub.status.busy": "2024-03-21T13:24:35.257761Z",
     "iopub.status.idle": "2024-03-21T13:24:35.262335Z",
     "shell.execute_reply": "2024-03-21T13:24:35.261268Z"
    },
    "papermill": {
     "duration": 0.015368,
     "end_time": "2024-03-21T13:24:35.264695",
     "exception": false,
     "start_time": "2024-03-21T13:24:35.249327",
     "status": "completed"
    },
    "tags": []
   },
   "outputs": [],
   "source": [
    "#q1.hint()\n",
    "# q1.solution()"
   ]
  },
  {
   "cell_type": "markdown",
   "id": "17dccb26",
   "metadata": {
    "papermill": {
     "duration": 0.006791,
     "end_time": "2024-03-21T13:24:35.278560",
     "exception": false,
     "start_time": "2024-03-21T13:24:35.271769",
     "status": "completed"
    },
    "tags": []
   },
   "source": [
    "## 2. \n",
    "What countries are represented in the dataset? (Your answer should not include any duplicates.)"
   ]
  },
  {
   "cell_type": "code",
   "execution_count": 4,
   "id": "a48574b0",
   "metadata": {
    "execution": {
     "iopub.execute_input": "2024-03-21T13:24:35.295952Z",
     "iopub.status.busy": "2024-03-21T13:24:35.295560Z",
     "iopub.status.idle": "2024-03-21T13:24:35.309999Z",
     "shell.execute_reply": "2024-03-21T13:24:35.308945Z"
    },
    "papermill": {
     "duration": 0.025884,
     "end_time": "2024-03-21T13:24:35.312239",
     "exception": false,
     "start_time": "2024-03-21T13:24:35.286355",
     "status": "completed"
    },
    "tags": []
   },
   "outputs": [
    {
     "data": {
      "application/javascript": [
       "parent.postMessage({\"jupyterEvent\": \"custom.exercise_interaction\", \"data\": {\"outcomeType\": 1, \"valueTowardsCompletion\": 0.14285714285714285, \"interactionType\": 1, \"questionType\": 2, \"questionId\": \"2_UniqueCountries\", \"learnToolsVersion\": \"0.3.4\", \"failureMessage\": \"\", \"exceptionClass\": \"\", \"trace\": \"\"}}, \"*\")"
      ],
      "text/plain": [
       "<IPython.core.display.Javascript object>"
      ]
     },
     "metadata": {},
     "output_type": "display_data"
    },
    {
     "data": {
      "text/markdown": [
       "<span style=\"color:#33cc33\">Correct</span>"
      ],
      "text/plain": [
       "Correct"
      ]
     },
     "metadata": {},
     "output_type": "display_data"
    }
   ],
   "source": [
    "countries = reviews.country.unique()\n",
    "\n",
    "# Check your answer\n",
    "q2.check()"
   ]
  },
  {
   "cell_type": "code",
   "execution_count": 5,
   "id": "a934b739",
   "metadata": {
    "execution": {
     "iopub.execute_input": "2024-03-21T13:24:35.328289Z",
     "iopub.status.busy": "2024-03-21T13:24:35.327877Z",
     "iopub.status.idle": "2024-03-21T13:24:35.332552Z",
     "shell.execute_reply": "2024-03-21T13:24:35.331413Z"
    },
    "papermill": {
     "duration": 0.015562,
     "end_time": "2024-03-21T13:24:35.334908",
     "exception": false,
     "start_time": "2024-03-21T13:24:35.319346",
     "status": "completed"
    },
    "tags": []
   },
   "outputs": [],
   "source": [
    "#q2.hint()\n",
    "#q2.solution()"
   ]
  },
  {
   "cell_type": "markdown",
   "id": "5c52de22",
   "metadata": {
    "papermill": {
     "duration": 0.006881,
     "end_time": "2024-03-21T13:24:35.349039",
     "exception": false,
     "start_time": "2024-03-21T13:24:35.342158",
     "status": "completed"
    },
    "tags": []
   },
   "source": [
    "## 3.\n",
    "How often does each country appear in the dataset? Create a Series `reviews_per_country` mapping countries to the count of reviews of wines from that country."
   ]
  },
  {
   "cell_type": "code",
   "execution_count": 6,
   "id": "7e487c84",
   "metadata": {
    "execution": {
     "iopub.execute_input": "2024-03-21T13:24:35.365272Z",
     "iopub.status.busy": "2024-03-21T13:24:35.364856Z",
     "iopub.status.idle": "2024-03-21T13:24:35.385550Z",
     "shell.execute_reply": "2024-03-21T13:24:35.384363Z"
    },
    "papermill": {
     "duration": 0.031599,
     "end_time": "2024-03-21T13:24:35.387882",
     "exception": false,
     "start_time": "2024-03-21T13:24:35.356283",
     "status": "completed"
    },
    "tags": []
   },
   "outputs": [
    {
     "data": {
      "application/javascript": [
       "parent.postMessage({\"jupyterEvent\": \"custom.exercise_interaction\", \"data\": {\"outcomeType\": 1, \"valueTowardsCompletion\": 0.14285714285714285, \"interactionType\": 1, \"questionType\": 1, \"questionId\": \"3_ReviewsPerCountry\", \"learnToolsVersion\": \"0.3.4\", \"failureMessage\": \"\", \"exceptionClass\": \"\", \"trace\": \"\"}}, \"*\")"
      ],
      "text/plain": [
       "<IPython.core.display.Javascript object>"
      ]
     },
     "metadata": {},
     "output_type": "display_data"
    },
    {
     "data": {
      "text/markdown": [
       "<span style=\"color:#33cc33\">Correct</span>"
      ],
      "text/plain": [
       "Correct"
      ]
     },
     "metadata": {},
     "output_type": "display_data"
    }
   ],
   "source": [
    "reviews_per_country = reviews.country.value_counts()\n",
    "\n",
    "# Check your answer\n",
    "q3.check()"
   ]
  },
  {
   "cell_type": "code",
   "execution_count": 7,
   "id": "5ef47596",
   "metadata": {
    "execution": {
     "iopub.execute_input": "2024-03-21T13:24:35.404655Z",
     "iopub.status.busy": "2024-03-21T13:24:35.404295Z",
     "iopub.status.idle": "2024-03-21T13:24:35.408543Z",
     "shell.execute_reply": "2024-03-21T13:24:35.407346Z"
    },
    "papermill": {
     "duration": 0.015613,
     "end_time": "2024-03-21T13:24:35.410949",
     "exception": false,
     "start_time": "2024-03-21T13:24:35.395336",
     "status": "completed"
    },
    "tags": []
   },
   "outputs": [],
   "source": [
    "#q3.hint()\n",
    "#q3.solution()"
   ]
  },
  {
   "cell_type": "markdown",
   "id": "e668f7ce",
   "metadata": {
    "papermill": {
     "duration": 0.007115,
     "end_time": "2024-03-21T13:24:35.425534",
     "exception": false,
     "start_time": "2024-03-21T13:24:35.418419",
     "status": "completed"
    },
    "tags": []
   },
   "source": [
    "## 4.\n",
    "Create variable `centered_price` containing a version of the `price` column with the mean price subtracted.\n",
    "\n",
    "(Note: this 'centering' transformation is a common preprocessing step before applying various machine learning algorithms.) "
   ]
  },
  {
   "cell_type": "code",
   "execution_count": 8,
   "id": "1f2352d3",
   "metadata": {
    "execution": {
     "iopub.execute_input": "2024-03-21T13:24:35.442287Z",
     "iopub.status.busy": "2024-03-21T13:24:35.441907Z",
     "iopub.status.idle": "2024-03-21T13:24:35.453152Z",
     "shell.execute_reply": "2024-03-21T13:24:35.451810Z"
    },
    "papermill": {
     "duration": 0.022452,
     "end_time": "2024-03-21T13:24:35.455363",
     "exception": false,
     "start_time": "2024-03-21T13:24:35.432911",
     "status": "completed"
    },
    "tags": []
   },
   "outputs": [
    {
     "data": {
      "application/javascript": [
       "parent.postMessage({\"jupyterEvent\": \"custom.exercise_interaction\", \"data\": {\"outcomeType\": 1, \"valueTowardsCompletion\": 0.14285714285714285, \"interactionType\": 1, \"questionType\": 1, \"questionId\": \"4_CenteredPrice\", \"learnToolsVersion\": \"0.3.4\", \"failureMessage\": \"\", \"exceptionClass\": \"\", \"trace\": \"\"}}, \"*\")"
      ],
      "text/plain": [
       "<IPython.core.display.Javascript object>"
      ]
     },
     "metadata": {},
     "output_type": "display_data"
    },
    {
     "data": {
      "text/markdown": [
       "<span style=\"color:#33cc33\">Correct</span>"
      ],
      "text/plain": [
       "Correct"
      ]
     },
     "metadata": {},
     "output_type": "display_data"
    }
   ],
   "source": [
    "centered_price = reviews.price - reviews.price.mean()\n",
    "\n",
    "# Check your answer\n",
    "q4.check()"
   ]
  },
  {
   "cell_type": "code",
   "execution_count": 9,
   "id": "bda00b24",
   "metadata": {
    "execution": {
     "iopub.execute_input": "2024-03-21T13:24:35.472838Z",
     "iopub.status.busy": "2024-03-21T13:24:35.472212Z",
     "iopub.status.idle": "2024-03-21T13:24:35.475873Z",
     "shell.execute_reply": "2024-03-21T13:24:35.474977Z"
    },
    "papermill": {
     "duration": 0.014958,
     "end_time": "2024-03-21T13:24:35.478104",
     "exception": false,
     "start_time": "2024-03-21T13:24:35.463146",
     "status": "completed"
    },
    "tags": []
   },
   "outputs": [],
   "source": [
    "#q4.hint()\n",
    "# q4.solution()"
   ]
  },
  {
   "cell_type": "markdown",
   "id": "0a8d3838",
   "metadata": {
    "papermill": {
     "duration": 0.0095,
     "end_time": "2024-03-21T13:24:35.495942",
     "exception": false,
     "start_time": "2024-03-21T13:24:35.486442",
     "status": "completed"
    },
    "tags": []
   },
   "source": [
    "## 5.\n",
    "I'm an economical wine buyer. Which wine is the \"best bargain\"? Create a variable `bargain_wine` with the title of the wine with the highest points-to-price ratio in the dataset."
   ]
  },
  {
   "cell_type": "code",
   "execution_count": 10,
   "id": "f5568549",
   "metadata": {
    "execution": {
     "iopub.execute_input": "2024-03-21T13:24:35.513683Z",
     "iopub.status.busy": "2024-03-21T13:24:35.513112Z",
     "iopub.status.idle": "2024-03-21T13:24:35.525439Z",
     "shell.execute_reply": "2024-03-21T13:24:35.524432Z"
    },
    "papermill": {
     "duration": 0.023728,
     "end_time": "2024-03-21T13:24:35.527752",
     "exception": false,
     "start_time": "2024-03-21T13:24:35.504024",
     "status": "completed"
    },
    "tags": []
   },
   "outputs": [
    {
     "data": {
      "application/javascript": [
       "parent.postMessage({\"jupyterEvent\": \"custom.exercise_interaction\", \"data\": {\"outcomeType\": 1, \"valueTowardsCompletion\": 0.14285714285714285, \"interactionType\": 1, \"questionType\": 2, \"questionId\": \"5_BargainWine\", \"learnToolsVersion\": \"0.3.4\", \"failureMessage\": \"\", \"exceptionClass\": \"\", \"trace\": \"\"}}, \"*\")"
      ],
      "text/plain": [
       "<IPython.core.display.Javascript object>"
      ]
     },
     "metadata": {},
     "output_type": "display_data"
    },
    {
     "data": {
      "text/markdown": [
       "<span style=\"color:#33cc33\">Correct</span>"
      ],
      "text/plain": [
       "Correct"
      ]
     },
     "metadata": {},
     "output_type": "display_data"
    }
   ],
   "source": [
    "b_index = (reviews.points / reviews.price).idxmax()\n",
    "bargain_wine = reviews.loc[b_index, 'title']\n",
    "\n",
    "# Check your answer\n",
    "q5.check()"
   ]
  },
  {
   "cell_type": "code",
   "execution_count": 11,
   "id": "952e3e52",
   "metadata": {
    "execution": {
     "iopub.execute_input": "2024-03-21T13:24:35.547544Z",
     "iopub.status.busy": "2024-03-21T13:24:35.546862Z",
     "iopub.status.idle": "2024-03-21T13:24:35.551423Z",
     "shell.execute_reply": "2024-03-21T13:24:35.550382Z"
    },
    "papermill": {
     "duration": 0.017558,
     "end_time": "2024-03-21T13:24:35.553762",
     "exception": false,
     "start_time": "2024-03-21T13:24:35.536204",
     "status": "completed"
    },
    "tags": []
   },
   "outputs": [],
   "source": [
    "# q5.hint()\n",
    "# q5.solution()"
   ]
  },
  {
   "cell_type": "markdown",
   "id": "abc46c37",
   "metadata": {
    "papermill": {
     "duration": 0.007881,
     "end_time": "2024-03-21T13:24:35.570118",
     "exception": false,
     "start_time": "2024-03-21T13:24:35.562237",
     "status": "completed"
    },
    "tags": []
   },
   "source": [
    "## 6.\n",
    "There are only so many words you can use when describing a bottle of wine. Is a wine more likely to be \"tropical\" or \"fruity\"? Create a Series `descriptor_counts` counting how many times each of these two words appears in the `description` column in the dataset. (For simplicity, let's ignore the capitalized versions of these words.)"
   ]
  },
  {
   "cell_type": "code",
   "execution_count": 12,
   "id": "72a7b865",
   "metadata": {
    "execution": {
     "iopub.execute_input": "2024-03-21T13:24:35.588280Z",
     "iopub.status.busy": "2024-03-21T13:24:35.587278Z",
     "iopub.status.idle": "2024-03-21T13:24:35.732092Z",
     "shell.execute_reply": "2024-03-21T13:24:35.730906Z"
    },
    "papermill": {
     "duration": 0.156677,
     "end_time": "2024-03-21T13:24:35.734709",
     "exception": false,
     "start_time": "2024-03-21T13:24:35.578032",
     "status": "completed"
    },
    "tags": []
   },
   "outputs": [
    {
     "data": {
      "application/javascript": [
       "parent.postMessage({\"jupyterEvent\": \"custom.exercise_interaction\", \"data\": {\"outcomeType\": 1, \"valueTowardsCompletion\": 0.14285714285714285, \"interactionType\": 1, \"questionType\": 1, \"questionId\": \"6_DescriptorCounts\", \"learnToolsVersion\": \"0.3.4\", \"failureMessage\": \"\", \"exceptionClass\": \"\", \"trace\": \"\"}}, \"*\")"
      ],
      "text/plain": [
       "<IPython.core.display.Javascript object>"
      ]
     },
     "metadata": {},
     "output_type": "display_data"
    },
    {
     "data": {
      "text/markdown": [
       "<span style=\"color:#33cc33\">Correct</span>"
      ],
      "text/plain": [
       "Correct"
      ]
     },
     "metadata": {},
     "output_type": "display_data"
    }
   ],
   "source": [
    "tropic = reviews.description.map(lambda desc: \"tropical\" in desc).sum()\n",
    "fruit = reviews.description.map(lambda desc: \"fruity\" in desc).sum()\n",
    "descriptor_counts = pd.Series([tropic, fruit], index=['tropical', 'fruity'])\n",
    "\n",
    "# Check your answer\n",
    "q6.check()"
   ]
  },
  {
   "cell_type": "code",
   "execution_count": 13,
   "id": "0e3688f3",
   "metadata": {
    "execution": {
     "iopub.execute_input": "2024-03-21T13:24:35.754017Z",
     "iopub.status.busy": "2024-03-21T13:24:35.753590Z",
     "iopub.status.idle": "2024-03-21T13:24:35.758475Z",
     "shell.execute_reply": "2024-03-21T13:24:35.757089Z"
    },
    "papermill": {
     "duration": 0.017267,
     "end_time": "2024-03-21T13:24:35.760828",
     "exception": false,
     "start_time": "2024-03-21T13:24:35.743561",
     "status": "completed"
    },
    "tags": []
   },
   "outputs": [],
   "source": [
    "#q6.hint()\n",
    "# q6.solution()"
   ]
  },
  {
   "cell_type": "markdown",
   "id": "78b76493",
   "metadata": {
    "papermill": {
     "duration": 0.00789,
     "end_time": "2024-03-21T13:24:35.776889",
     "exception": false,
     "start_time": "2024-03-21T13:24:35.768999",
     "status": "completed"
    },
    "tags": []
   },
   "source": [
    "## 7.\n",
    "We'd like to host these wine reviews on our website, but a rating system ranging from 80 to 100 points is too hard to understand - we'd like to translate them into simple star ratings. A score of 95 or higher counts as 3 stars, a score of at least 85 but less than 95 is 2 stars. Any other score is 1 star.\n",
    "\n",
    "Also, the Canadian Vintners Association bought a lot of ads on the site, so any wines from Canada should automatically get 3 stars, regardless of points.\n",
    "\n",
    "Create a series `star_ratings` with the number of stars corresponding to each review in the dataset."
   ]
  },
  {
   "cell_type": "code",
   "execution_count": 14,
   "id": "4ac71cf5",
   "metadata": {
    "execution": {
     "iopub.execute_input": "2024-03-21T13:24:35.794678Z",
     "iopub.status.busy": "2024-03-21T13:24:35.794326Z",
     "iopub.status.idle": "2024-03-21T13:24:39.188109Z",
     "shell.execute_reply": "2024-03-21T13:24:39.186690Z"
    },
    "papermill": {
     "duration": 3.405756,
     "end_time": "2024-03-21T13:24:39.190659",
     "exception": false,
     "start_time": "2024-03-21T13:24:35.784903",
     "status": "completed"
    },
    "tags": []
   },
   "outputs": [
    {
     "data": {
      "application/javascript": [
       "parent.postMessage({\"jupyterEvent\": \"custom.exercise_interaction\", \"data\": {\"outcomeType\": 1, \"valueTowardsCompletion\": 0.14285714285714285, \"interactionType\": 1, \"questionType\": 1, \"questionId\": \"7_StarRatings\", \"learnToolsVersion\": \"0.3.4\", \"failureMessage\": \"\", \"exceptionClass\": \"\", \"trace\": \"\"}}, \"*\")"
      ],
      "text/plain": [
       "<IPython.core.display.Javascript object>"
      ]
     },
     "metadata": {},
     "output_type": "display_data"
    },
    {
     "data": {
      "text/markdown": [
       "<span style=\"color:#33cc33\">Correct</span>"
      ],
      "text/plain": [
       "Correct"
      ]
     },
     "metadata": {},
     "output_type": "display_data"
    }
   ],
   "source": [
    "def ranking_stars(row):\n",
    "    if row.country == 'Canada':\n",
    "        return 3\n",
    "    elif row.points >= 95:\n",
    "        return 3\n",
    "    elif row.points >= 85:\n",
    "        return 2\n",
    "    else:\n",
    "        return 1\n",
    "    \n",
    "star_ratings = reviews.apply(ranking_stars, axis='columns')\n",
    "\n",
    "# Check your answer\n",
    "q7.check()"
   ]
  },
  {
   "cell_type": "code",
   "execution_count": 15,
   "id": "6aff32d8",
   "metadata": {
    "execution": {
     "iopub.execute_input": "2024-03-21T13:24:39.209362Z",
     "iopub.status.busy": "2024-03-21T13:24:39.209001Z",
     "iopub.status.idle": "2024-03-21T13:24:39.214225Z",
     "shell.execute_reply": "2024-03-21T13:24:39.212839Z"
    },
    "papermill": {
     "duration": 0.017221,
     "end_time": "2024-03-21T13:24:39.216522",
     "exception": false,
     "start_time": "2024-03-21T13:24:39.199301",
     "status": "completed"
    },
    "tags": []
   },
   "outputs": [],
   "source": [
    "#q7.hint()\n",
    "# q7.solution()"
   ]
  },
  {
   "cell_type": "markdown",
   "id": "76f4ae55",
   "metadata": {
    "papermill": {
     "duration": 0.00813,
     "end_time": "2024-03-21T13:24:39.232974",
     "exception": false,
     "start_time": "2024-03-21T13:24:39.224844",
     "status": "completed"
    },
    "tags": []
   },
   "source": [
    "# Keep going\n",
    "Continue to **[grouping and sorting](https://www.kaggle.com/residentmario/grouping-and-sorting)**."
   ]
  },
  {
   "cell_type": "markdown",
   "id": "bd92bfe6",
   "metadata": {
    "papermill": {
     "duration": 0.008031,
     "end_time": "2024-03-21T13:24:39.249265",
     "exception": false,
     "start_time": "2024-03-21T13:24:39.241234",
     "status": "completed"
    },
    "tags": []
   },
   "source": [
    "---\n",
    "\n",
    "\n",
    "\n",
    "\n",
    "*Have questions or comments? Visit the [course discussion forum](https://www.kaggle.com/learn/pandas/discussion) to chat with other learners.*"
   ]
  }
 ],
 "metadata": {
  "kaggle": {
   "accelerator": "none",
   "dataSources": [
    {
     "datasetId": 655,
     "sourceId": 1252,
     "sourceType": "datasetVersion"
    },
    {
     "datasetId": 2321,
     "sourceId": 3919,
     "sourceType": "datasetVersion"
    },
    {
     "datasetId": 2894,
     "sourceId": 4877,
     "sourceType": "datasetVersion"
    },
    {
     "datasetId": 3491,
     "sourceId": 5624,
     "sourceType": "datasetVersion"
    },
    {
     "datasetId": 1442,
     "sourceId": 8172,
     "sourceType": "datasetVersion"
    },
    {
     "datasetId": 9366,
     "sourceId": 13206,
     "sourceType": "datasetVersion"
    },
    {
     "datasetId": 179555,
     "sourceId": 403916,
     "sourceType": "datasetVersion"
    },
    {
     "datasetId": 4549,
     "sourceId": 466349,
     "sourceType": "datasetVersion"
    },
    {
     "datasetId": 2478,
     "sourceId": 1151655,
     "sourceType": "datasetVersion"
    },
    {
     "datasetId": 10128,
     "sourceId": 5438389,
     "sourceType": "datasetVersion"
    }
   ],
   "isGpuEnabled": false,
   "isInternetEnabled": false,
   "language": "python",
   "sourceType": "notebook"
  },
  "kernelspec": {
   "display_name": "Python 3",
   "language": "python",
   "name": "python3"
  },
  "language_info": {
   "codemirror_mode": {
    "name": "ipython",
    "version": 3
   },
   "file_extension": ".py",
   "mimetype": "text/x-python",
   "name": "python",
   "nbconvert_exporter": "python",
   "pygments_lexer": "ipython3",
   "version": "3.10.13"
  },
  "papermill": {
   "default_parameters": {},
   "duration": 15.380288,
   "end_time": "2024-03-21T13:24:39.778892",
   "environment_variables": {},
   "exception": null,
   "input_path": "__notebook__.ipynb",
   "output_path": "__notebook__.ipynb",
   "parameters": {},
   "start_time": "2024-03-21T13:24:24.398604",
   "version": "2.5.0"
  }
 },
 "nbformat": 4,
 "nbformat_minor": 5
}
