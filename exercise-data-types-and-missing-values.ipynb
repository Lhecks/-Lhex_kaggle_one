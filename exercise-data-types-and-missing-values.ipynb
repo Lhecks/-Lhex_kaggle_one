{
 "cells": [
  {
   "cell_type": "markdown",
   "id": "f85f0a23",
   "metadata": {
    "papermill": {
     "duration": 0.007476,
     "end_time": "2024-03-21T17:39:47.705241",
     "exception": false,
     "start_time": "2024-03-21T17:39:47.697765",
     "status": "completed"
    },
    "tags": []
   },
   "source": [
    "**This notebook is an exercise in the [Pandas](https://www.kaggle.com/learn/pandas) course.  You can reference the tutorial at [this link](https://www.kaggle.com/residentmario/data-types-and-missing-values).**\n",
    "\n",
    "---\n"
   ]
  },
  {
   "cell_type": "markdown",
   "id": "b3af7d98",
   "metadata": {
    "papermill": {
     "duration": 0.006492,
     "end_time": "2024-03-21T17:39:47.718716",
     "exception": false,
     "start_time": "2024-03-21T17:39:47.712224",
     "status": "completed"
    },
    "tags": []
   },
   "source": [
    "# Introduction\n",
    "\n",
    "Run the following cell to load your data and some utility functions."
   ]
  },
  {
   "cell_type": "code",
   "execution_count": 1,
   "id": "ef4f946a",
   "metadata": {
    "execution": {
     "iopub.execute_input": "2024-03-21T17:39:47.734453Z",
     "iopub.status.busy": "2024-03-21T17:39:47.733903Z",
     "iopub.status.idle": "2024-03-21T17:39:52.399533Z",
     "shell.execute_reply": "2024-03-21T17:39:52.398195Z"
    },
    "papermill": {
     "duration": 4.677181,
     "end_time": "2024-03-21T17:39:52.402485",
     "exception": false,
     "start_time": "2024-03-21T17:39:47.725304",
     "status": "completed"
    },
    "tags": []
   },
   "outputs": [
    {
     "name": "stdout",
     "output_type": "stream",
     "text": [
      "Setup complete.\n"
     ]
    }
   ],
   "source": [
    "import pandas as pd\n",
    "\n",
    "reviews = pd.read_csv(\"../input/wine-reviews/winemag-data-130k-v2.csv\", index_col=0)\n",
    "\n",
    "from learntools.core import binder; binder.bind(globals())\n",
    "from learntools.pandas.data_types_and_missing_data import *\n",
    "print(\"Setup complete.\")"
   ]
  },
  {
   "cell_type": "markdown",
   "id": "c8aac7bb",
   "metadata": {
    "papermill": {
     "duration": 0.006277,
     "end_time": "2024-03-21T17:39:52.415594",
     "exception": false,
     "start_time": "2024-03-21T17:39:52.409317",
     "status": "completed"
    },
    "tags": []
   },
   "source": [
    "# Exercises"
   ]
  },
  {
   "cell_type": "markdown",
   "id": "e8e4568e",
   "metadata": {
    "papermill": {
     "duration": 0.00648,
     "end_time": "2024-03-21T17:39:52.428750",
     "exception": false,
     "start_time": "2024-03-21T17:39:52.422270",
     "status": "completed"
    },
    "tags": []
   },
   "source": [
    "## 1. \n",
    "What is the data type of the `points` column in the dataset?"
   ]
  },
  {
   "cell_type": "code",
   "execution_count": 2,
   "id": "a5ac5534",
   "metadata": {
    "execution": {
     "iopub.execute_input": "2024-03-21T17:39:52.444018Z",
     "iopub.status.busy": "2024-03-21T17:39:52.443546Z",
     "iopub.status.idle": "2024-03-21T17:39:52.455617Z",
     "shell.execute_reply": "2024-03-21T17:39:52.454410Z"
    },
    "papermill": {
     "duration": 0.02294,
     "end_time": "2024-03-21T17:39:52.458333",
     "exception": false,
     "start_time": "2024-03-21T17:39:52.435393",
     "status": "completed"
    },
    "tags": []
   },
   "outputs": [
    {
     "data": {
      "application/javascript": [
       "parent.postMessage({\"jupyterEvent\": \"custom.exercise_interaction\", \"data\": {\"outcomeType\": 1, \"valueTowardsCompletion\": 0.25, \"interactionType\": 1, \"questionType\": 1, \"questionId\": \"1_PointsDtype\", \"learnToolsVersion\": \"0.3.4\", \"failureMessage\": \"\", \"exceptionClass\": \"\", \"trace\": \"\"}}, \"*\")"
      ],
      "text/plain": [
       "<IPython.core.display.Javascript object>"
      ]
     },
     "metadata": {},
     "output_type": "display_data"
    },
    {
     "data": {
      "text/markdown": [
       "<span style=\"color:#33cc33\">Correct</span>"
      ],
      "text/plain": [
       "Correct"
      ]
     },
     "metadata": {},
     "output_type": "display_data"
    }
   ],
   "source": [
    "# Your code here\n",
    "dtype = reviews.points.dtype\n",
    "\n",
    "# Check your answer\n",
    "q1.check()"
   ]
  },
  {
   "cell_type": "code",
   "execution_count": 3,
   "id": "700484ce",
   "metadata": {
    "execution": {
     "iopub.execute_input": "2024-03-21T17:39:52.476280Z",
     "iopub.status.busy": "2024-03-21T17:39:52.475826Z",
     "iopub.status.idle": "2024-03-21T17:39:52.480718Z",
     "shell.execute_reply": "2024-03-21T17:39:52.479510Z"
    },
    "papermill": {
     "duration": 0.017949,
     "end_time": "2024-03-21T17:39:52.483193",
     "exception": false,
     "start_time": "2024-03-21T17:39:52.465244",
     "status": "completed"
    },
    "tags": []
   },
   "outputs": [],
   "source": [
    "#q1.hint()\n",
    "#q1.solution()"
   ]
  },
  {
   "cell_type": "markdown",
   "id": "078233ec",
   "metadata": {
    "papermill": {
     "duration": 0.006487,
     "end_time": "2024-03-21T17:39:52.497627",
     "exception": false,
     "start_time": "2024-03-21T17:39:52.491140",
     "status": "completed"
    },
    "tags": []
   },
   "source": [
    "## 2. \n",
    "Create a Series from entries in the `points` column, but convert the entries to strings. Hint: strings are `str` in native Python."
   ]
  },
  {
   "cell_type": "code",
   "execution_count": 4,
   "id": "66ebb952",
   "metadata": {
    "execution": {
     "iopub.execute_input": "2024-03-21T17:39:52.513919Z",
     "iopub.status.busy": "2024-03-21T17:39:52.512798Z",
     "iopub.status.idle": "2024-03-21T17:39:52.586943Z",
     "shell.execute_reply": "2024-03-21T17:39:52.585768Z"
    },
    "papermill": {
     "duration": 0.085068,
     "end_time": "2024-03-21T17:39:52.589499",
     "exception": false,
     "start_time": "2024-03-21T17:39:52.504431",
     "status": "completed"
    },
    "tags": []
   },
   "outputs": [
    {
     "data": {
      "application/javascript": [
       "parent.postMessage({\"jupyterEvent\": \"custom.exercise_interaction\", \"data\": {\"outcomeType\": 1, \"valueTowardsCompletion\": 0.25, \"interactionType\": 1, \"questionType\": 1, \"questionId\": \"2_StrPoints\", \"learnToolsVersion\": \"0.3.4\", \"failureMessage\": \"\", \"exceptionClass\": \"\", \"trace\": \"\"}}, \"*\")"
      ],
      "text/plain": [
       "<IPython.core.display.Javascript object>"
      ]
     },
     "metadata": {},
     "output_type": "display_data"
    },
    {
     "data": {
      "text/markdown": [
       "<span style=\"color:#33cc33\">Correct</span>"
      ],
      "text/plain": [
       "Correct"
      ]
     },
     "metadata": {},
     "output_type": "display_data"
    }
   ],
   "source": [
    "point_strings = reviews.points.astype(str)\n",
    "\n",
    "# Check your answer\n",
    "q2.check()"
   ]
  },
  {
   "cell_type": "code",
   "execution_count": 5,
   "id": "8b0958f9",
   "metadata": {
    "execution": {
     "iopub.execute_input": "2024-03-21T17:39:52.607260Z",
     "iopub.status.busy": "2024-03-21T17:39:52.605683Z",
     "iopub.status.idle": "2024-03-21T17:39:52.611699Z",
     "shell.execute_reply": "2024-03-21T17:39:52.610445Z"
    },
    "papermill": {
     "duration": 0.017681,
     "end_time": "2024-03-21T17:39:52.614482",
     "exception": false,
     "start_time": "2024-03-21T17:39:52.596801",
     "status": "completed"
    },
    "tags": []
   },
   "outputs": [],
   "source": [
    "#q2.hint()\n",
    "#q2.solution()"
   ]
  },
  {
   "cell_type": "markdown",
   "id": "defcbd27",
   "metadata": {
    "papermill": {
     "duration": 0.007011,
     "end_time": "2024-03-21T17:39:52.629253",
     "exception": false,
     "start_time": "2024-03-21T17:39:52.622242",
     "status": "completed"
    },
    "tags": []
   },
   "source": [
    "## 3.\n",
    "Sometimes the price column is null. How many reviews in the dataset are missing a price?"
   ]
  },
  {
   "cell_type": "code",
   "execution_count": 6,
   "id": "39c958b0",
   "metadata": {
    "execution": {
     "iopub.execute_input": "2024-03-21T17:39:52.646933Z",
     "iopub.status.busy": "2024-03-21T17:39:52.646061Z",
     "iopub.status.idle": "2024-03-21T17:39:52.656902Z",
     "shell.execute_reply": "2024-03-21T17:39:52.655659Z"
    },
    "papermill": {
     "duration": 0.022529,
     "end_time": "2024-03-21T17:39:52.659160",
     "exception": false,
     "start_time": "2024-03-21T17:39:52.636631",
     "status": "completed"
    },
    "tags": []
   },
   "outputs": [
    {
     "data": {
      "application/javascript": [
       "parent.postMessage({\"jupyterEvent\": \"custom.exercise_interaction\", \"data\": {\"outcomeType\": 1, \"valueTowardsCompletion\": 0.25, \"interactionType\": 1, \"questionType\": 1, \"questionId\": \"3_CountMissingPrices\", \"learnToolsVersion\": \"0.3.4\", \"failureMessage\": \"\", \"exceptionClass\": \"\", \"trace\": \"\"}}, \"*\")"
      ],
      "text/plain": [
       "<IPython.core.display.Javascript object>"
      ]
     },
     "metadata": {},
     "output_type": "display_data"
    },
    {
     "data": {
      "text/markdown": [
       "<span style=\"color:#33cc33\">Correct</span>"
      ],
      "text/plain": [
       "Correct"
      ]
     },
     "metadata": {},
     "output_type": "display_data"
    }
   ],
   "source": [
    "n_missing_prices = reviews.price.isnull().sum()\n",
    "\n",
    "# Check your answer\n",
    "q3.check()"
   ]
  },
  {
   "cell_type": "code",
   "execution_count": 7,
   "id": "7f248bd7",
   "metadata": {
    "execution": {
     "iopub.execute_input": "2024-03-21T17:39:52.677679Z",
     "iopub.status.busy": "2024-03-21T17:39:52.676686Z",
     "iopub.status.idle": "2024-03-21T17:39:52.681779Z",
     "shell.execute_reply": "2024-03-21T17:39:52.680622Z"
    },
    "papermill": {
     "duration": 0.017478,
     "end_time": "2024-03-21T17:39:52.684344",
     "exception": false,
     "start_time": "2024-03-21T17:39:52.666866",
     "status": "completed"
    },
    "tags": []
   },
   "outputs": [],
   "source": [
    "#q3.hint()\n",
    "# q3.solution()"
   ]
  },
  {
   "cell_type": "markdown",
   "id": "9c64804e",
   "metadata": {
    "papermill": {
     "duration": 0.007452,
     "end_time": "2024-03-21T17:39:52.699574",
     "exception": false,
     "start_time": "2024-03-21T17:39:52.692122",
     "status": "completed"
    },
    "tags": []
   },
   "source": [
    "## 4.\n",
    "What are the most common wine-producing regions? Create a Series counting the number of times each value occurs in the `region_1` field. This field is often missing data, so replace missing values with `Unknown`. Sort in descending order.  Your output should look something like this:\n",
    "\n",
    "```\n",
    "Unknown                    21247\n",
    "Napa Valley                 4480\n",
    "                           ...  \n",
    "Bardolino Superiore            1\n",
    "Primitivo del Tarantino        1\n",
    "Name: region_1, Length: 1230, dtype: int64\n",
    "```"
   ]
  },
  {
   "cell_type": "code",
   "execution_count": 8,
   "id": "1f8c9947",
   "metadata": {
    "execution": {
     "iopub.execute_input": "2024-03-21T17:39:52.718922Z",
     "iopub.status.busy": "2024-03-21T17:39:52.718455Z",
     "iopub.status.idle": "2024-03-21T17:39:52.811554Z",
     "shell.execute_reply": "2024-03-21T17:39:52.810678Z"
    },
    "papermill": {
     "duration": 0.106334,
     "end_time": "2024-03-21T17:39:52.814046",
     "exception": false,
     "start_time": "2024-03-21T17:39:52.707712",
     "status": "completed"
    },
    "tags": []
   },
   "outputs": [
    {
     "data": {
      "application/javascript": [
       "parent.postMessage({\"jupyterEvent\": \"custom.exercise_interaction\", \"data\": {\"outcomeType\": 1, \"valueTowardsCompletion\": 0.25, \"interactionType\": 1, \"questionType\": 2, \"questionId\": \"4_ReviewsPerRegion\", \"learnToolsVersion\": \"0.3.4\", \"failureMessage\": \"\", \"exceptionClass\": \"\", \"trace\": \"\"}}, \"*\")"
      ],
      "text/plain": [
       "<IPython.core.display.Javascript object>"
      ]
     },
     "metadata": {},
     "output_type": "display_data"
    },
    {
     "data": {
      "text/markdown": [
       "<span style=\"color:#33cc33\">Correct</span>"
      ],
      "text/plain": [
       "Correct"
      ]
     },
     "metadata": {},
     "output_type": "display_data"
    }
   ],
   "source": [
    "reviews_per_region = reviews.region_1.fillna('Unknown').value_counts().sort_values(ascending=False)\n",
    "\n",
    "# Check your answer\n",
    "q4.check()"
   ]
  },
  {
   "cell_type": "code",
   "execution_count": 9,
   "id": "2138bd1a",
   "metadata": {
    "execution": {
     "iopub.execute_input": "2024-03-21T17:39:52.833005Z",
     "iopub.status.busy": "2024-03-21T17:39:52.832311Z",
     "iopub.status.idle": "2024-03-21T17:39:52.836129Z",
     "shell.execute_reply": "2024-03-21T17:39:52.835319Z"
    },
    "papermill": {
     "duration": 0.015819,
     "end_time": "2024-03-21T17:39:52.838348",
     "exception": false,
     "start_time": "2024-03-21T17:39:52.822529",
     "status": "completed"
    },
    "tags": []
   },
   "outputs": [],
   "source": [
    "#q4.hint()\n",
    "# q4.solution()"
   ]
  },
  {
   "cell_type": "markdown",
   "id": "fee6eed6",
   "metadata": {
    "papermill": {
     "duration": 0.00751,
     "end_time": "2024-03-21T17:39:52.853806",
     "exception": false,
     "start_time": "2024-03-21T17:39:52.846296",
     "status": "completed"
    },
    "tags": []
   },
   "source": [
    "# Keep going\n",
    "\n",
    "Move on to **[renaming and combining](https://www.kaggle.com/residentmario/renaming-and-combining)**."
   ]
  },
  {
   "cell_type": "markdown",
   "id": "33524fc5",
   "metadata": {
    "papermill": {
     "duration": 0.00767,
     "end_time": "2024-03-21T17:39:52.869272",
     "exception": false,
     "start_time": "2024-03-21T17:39:52.861602",
     "status": "completed"
    },
    "tags": []
   },
   "source": [
    "---\n",
    "\n",
    "\n",
    "\n",
    "\n",
    "*Have questions or comments? Visit the [course discussion forum](https://www.kaggle.com/learn/pandas/discussion) to chat with other learners.*"
   ]
  }
 ],
 "metadata": {
  "kaggle": {
   "accelerator": "none",
   "dataSources": [
    {
     "datasetId": 655,
     "sourceId": 1252,
     "sourceType": "datasetVersion"
    },
    {
     "datasetId": 2321,
     "sourceId": 3919,
     "sourceType": "datasetVersion"
    },
    {
     "datasetId": 2894,
     "sourceId": 4877,
     "sourceType": "datasetVersion"
    },
    {
     "datasetId": 3491,
     "sourceId": 5624,
     "sourceType": "datasetVersion"
    },
    {
     "datasetId": 1442,
     "sourceId": 8172,
     "sourceType": "datasetVersion"
    },
    {
     "datasetId": 9366,
     "sourceId": 13206,
     "sourceType": "datasetVersion"
    },
    {
     "datasetId": 179555,
     "sourceId": 403916,
     "sourceType": "datasetVersion"
    },
    {
     "datasetId": 4549,
     "sourceId": 466349,
     "sourceType": "datasetVersion"
    },
    {
     "datasetId": 2478,
     "sourceId": 1151655,
     "sourceType": "datasetVersion"
    },
    {
     "datasetId": 10128,
     "sourceId": 5438389,
     "sourceType": "datasetVersion"
    }
   ],
   "isGpuEnabled": false,
   "isInternetEnabled": false,
   "language": "python",
   "sourceType": "notebook"
  },
  "kernelspec": {
   "display_name": "Python 3",
   "language": "python",
   "name": "python3"
  },
  "language_info": {
   "codemirror_mode": {
    "name": "ipython",
    "version": 3
   },
   "file_extension": ".py",
   "mimetype": "text/x-python",
   "name": "python",
   "nbconvert_exporter": "python",
   "pygments_lexer": "ipython3",
   "version": "3.10.13"
  },
  "papermill": {
   "default_parameters": {},
   "duration": 9.261419,
   "end_time": "2024-03-21T17:39:53.600073",
   "environment_variables": {},
   "exception": null,
   "input_path": "__notebook__.ipynb",
   "output_path": "__notebook__.ipynb",
   "parameters": {},
   "start_time": "2024-03-21T17:39:44.338654",
   "version": "2.5.0"
  }
 },
 "nbformat": 4,
 "nbformat_minor": 5
}
