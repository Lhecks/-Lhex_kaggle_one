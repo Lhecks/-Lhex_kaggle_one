{
 "cells": [
  {
   "cell_type": "markdown",
   "id": "e8333aac",
   "metadata": {
    "papermill": {
     "duration": 0.009133,
     "end_time": "2024-03-21T16:12:43.783902",
     "exception": false,
     "start_time": "2024-03-21T16:12:43.774769",
     "status": "completed"
    },
    "tags": []
   },
   "source": [
    "**This notebook is an exercise in the [Pandas](https://www.kaggle.com/learn/pandas) course.  You can reference the tutorial at [this link](https://www.kaggle.com/residentmario/grouping-and-sorting).**\n",
    "\n",
    "---\n"
   ]
  },
  {
   "cell_type": "markdown",
   "id": "ff8a5bb8",
   "metadata": {
    "papermill": {
     "duration": 0.008215,
     "end_time": "2024-03-21T16:12:43.800907",
     "exception": false,
     "start_time": "2024-03-21T16:12:43.792692",
     "status": "completed"
    },
    "tags": []
   },
   "source": [
    "# Introduction\n",
    "\n",
    "In these exercises we'll apply groupwise analysis to our dataset.\n",
    "\n",
    "Run the code cell below to load the data before running the exercises."
   ]
  },
  {
   "cell_type": "code",
   "execution_count": 1,
   "id": "7d52ae31",
   "metadata": {
    "execution": {
     "iopub.execute_input": "2024-03-21T16:12:43.820701Z",
     "iopub.status.busy": "2024-03-21T16:12:43.819870Z",
     "iopub.status.idle": "2024-03-21T16:12:49.054751Z",
     "shell.execute_reply": "2024-03-21T16:12:49.053411Z"
    },
    "papermill": {
     "duration": 5.250099,
     "end_time": "2024-03-21T16:12:49.059457",
     "exception": false,
     "start_time": "2024-03-21T16:12:43.809358",
     "status": "completed"
    },
    "tags": []
   },
   "outputs": [
    {
     "name": "stdout",
     "output_type": "stream",
     "text": [
      "Setup complete.\n"
     ]
    },
    {
     "name": "stderr",
     "output_type": "stream",
     "text": [
      "/opt/conda/lib/python3.10/site-packages/learntools/pandas/grouping_and_sorting.py:29: FutureWarning: The provided callable <built-in function min> is currently using SeriesGroupBy.min. In a future version of pandas, the provided callable will be used directly. To keep current behavior pass the string \"min\" instead.\n",
      "  _expected = reviews.groupby('variety').price.agg([min, max])\n",
      "/opt/conda/lib/python3.10/site-packages/learntools/pandas/grouping_and_sorting.py:29: FutureWarning: The provided callable <built-in function max> is currently using SeriesGroupBy.max. In a future version of pandas, the provided callable will be used directly. To keep current behavior pass the string \"max\" instead.\n",
      "  _expected = reviews.groupby('variety').price.agg([min, max])\n",
      "/opt/conda/lib/python3.10/site-packages/learntools/pandas/grouping_and_sorting.py:35: FutureWarning: The provided callable <built-in function min> is currently using SeriesGroupBy.min. In a future version of pandas, the provided callable will be used directly. To keep current behavior pass the string \"min\" instead.\n",
      "  _expected = reviews.groupby('variety').price.agg([min, max]).sort_values(by=['min', 'max'], ascending=False)\n",
      "/opt/conda/lib/python3.10/site-packages/learntools/pandas/grouping_and_sorting.py:35: FutureWarning: The provided callable <built-in function max> is currently using SeriesGroupBy.max. In a future version of pandas, the provided callable will be used directly. To keep current behavior pass the string \"max\" instead.\n",
      "  _expected = reviews.groupby('variety').price.agg([min, max]).sort_values(by=['min', 'max'], ascending=False)\n"
     ]
    }
   ],
   "source": [
    "import pandas as pd\n",
    "\n",
    "reviews = pd.read_csv(\"../input/wine-reviews/winemag-data-130k-v2.csv\", index_col=0)\n",
    "#pd.set_option(\"display.max_rows\", 5)\n",
    "\n",
    "from learntools.core import binder; binder.bind(globals())\n",
    "from learntools.pandas.grouping_and_sorting import *\n",
    "print(\"Setup complete.\")"
   ]
  },
  {
   "cell_type": "markdown",
   "id": "e2ef12a3",
   "metadata": {
    "papermill": {
     "duration": 0.009205,
     "end_time": "2024-03-21T16:12:49.078107",
     "exception": false,
     "start_time": "2024-03-21T16:12:49.068902",
     "status": "completed"
    },
    "tags": []
   },
   "source": [
    "# Exercises"
   ]
  },
  {
   "cell_type": "markdown",
   "id": "61576e21",
   "metadata": {
    "papermill": {
     "duration": 0.008578,
     "end_time": "2024-03-21T16:12:49.095624",
     "exception": false,
     "start_time": "2024-03-21T16:12:49.087046",
     "status": "completed"
    },
    "tags": []
   },
   "source": [
    "## 1.\n",
    "Who are the most common wine reviewers in the dataset? Create a `Series` whose index is the `taster_twitter_handle` category from the dataset, and whose values count how many reviews each person wrote."
   ]
  },
  {
   "cell_type": "code",
   "execution_count": 2,
   "id": "d6c3096a",
   "metadata": {
    "execution": {
     "iopub.execute_input": "2024-03-21T16:12:49.115540Z",
     "iopub.status.busy": "2024-03-21T16:12:49.115013Z",
     "iopub.status.idle": "2024-03-21T16:12:49.159430Z",
     "shell.execute_reply": "2024-03-21T16:12:49.157912Z"
    },
    "papermill": {
     "duration": 0.059321,
     "end_time": "2024-03-21T16:12:49.163814",
     "exception": false,
     "start_time": "2024-03-21T16:12:49.104493",
     "status": "completed"
    },
    "tags": []
   },
   "outputs": [
    {
     "data": {
      "application/javascript": [
       "parent.postMessage({\"jupyterEvent\": \"custom.exercise_interaction\", \"data\": {\"outcomeType\": 1, \"valueTowardsCompletion\": 0.16666666666666666, \"interactionType\": 1, \"questionType\": 1, \"questionId\": \"1_ReviewsWritten\", \"learnToolsVersion\": \"0.3.4\", \"failureMessage\": \"\", \"exceptionClass\": \"\", \"trace\": \"\"}}, \"*\")"
      ],
      "text/plain": [
       "<IPython.core.display.Javascript object>"
      ]
     },
     "metadata": {},
     "output_type": "display_data"
    },
    {
     "data": {
      "text/markdown": [
       "<span style=\"color:#33cc33\">Correct:</span> \n",
       "\n",
       "\n",
       "```python\n",
       "reviews_written = reviews.groupby('taster_twitter_handle').size()\n",
       "```\n",
       "or\n",
       "```python\n",
       "reviews_written = reviews.groupby('taster_twitter_handle').taster_twitter_handle.count()\n",
       "```\n"
      ],
      "text/plain": [
       "Correct: \n",
       "\n",
       "\n",
       "```python\n",
       "reviews_written = reviews.groupby('taster_twitter_handle').size()\n",
       "```\n",
       "or\n",
       "```python\n",
       "reviews_written = reviews.groupby('taster_twitter_handle').taster_twitter_handle.count()\n",
       "```"
      ]
     },
     "metadata": {},
     "output_type": "display_data"
    }
   ],
   "source": [
    "# Your code here\n",
    "reviews_written = reviews.groupby('taster_twitter_handle').size()\n",
    "\n",
    "# Check your answer\n",
    "q1.check()"
   ]
  },
  {
   "cell_type": "code",
   "execution_count": 3,
   "id": "5daa7d58",
   "metadata": {
    "execution": {
     "iopub.execute_input": "2024-03-21T16:12:49.185124Z",
     "iopub.status.busy": "2024-03-21T16:12:49.184621Z",
     "iopub.status.idle": "2024-03-21T16:12:49.190871Z",
     "shell.execute_reply": "2024-03-21T16:12:49.188689Z"
    },
    "papermill": {
     "duration": 0.020656,
     "end_time": "2024-03-21T16:12:49.194045",
     "exception": false,
     "start_time": "2024-03-21T16:12:49.173389",
     "status": "completed"
    },
    "tags": []
   },
   "outputs": [],
   "source": [
    "#q1.hint()\n",
    "# q1.solution()"
   ]
  },
  {
   "cell_type": "markdown",
   "id": "f9878804",
   "metadata": {
    "papermill": {
     "duration": 0.011088,
     "end_time": "2024-03-21T16:12:49.219566",
     "exception": false,
     "start_time": "2024-03-21T16:12:49.208478",
     "status": "completed"
    },
    "tags": []
   },
   "source": [
    "## 2.\n",
    "What is the best wine I can buy for a given amount of money? Create a `Series` whose index is wine prices and whose values is the maximum number of points a wine costing that much was given in a review. Sort the values by price, ascending (so that `4.0` dollars is at the top and `3300.0` dollars is at the bottom)."
   ]
  },
  {
   "cell_type": "code",
   "execution_count": 4,
   "id": "abf05c39",
   "metadata": {
    "execution": {
     "iopub.execute_input": "2024-03-21T16:12:49.240533Z",
     "iopub.status.busy": "2024-03-21T16:12:49.240029Z",
     "iopub.status.idle": "2024-03-21T16:12:49.257745Z",
     "shell.execute_reply": "2024-03-21T16:12:49.256515Z"
    },
    "papermill": {
     "duration": 0.032383,
     "end_time": "2024-03-21T16:12:49.261306",
     "exception": false,
     "start_time": "2024-03-21T16:12:49.228923",
     "status": "completed"
    },
    "tags": []
   },
   "outputs": [
    {
     "data": {
      "application/javascript": [
       "parent.postMessage({\"jupyterEvent\": \"custom.exercise_interaction\", \"data\": {\"outcomeType\": 1, \"valueTowardsCompletion\": 0.16666666666666666, \"interactionType\": 1, \"questionType\": 1, \"questionId\": \"2_BestRatingPerPrice\", \"learnToolsVersion\": \"0.3.4\", \"failureMessage\": \"\", \"exceptionClass\": \"\", \"trace\": \"\"}}, \"*\")"
      ],
      "text/plain": [
       "<IPython.core.display.Javascript object>"
      ]
     },
     "metadata": {},
     "output_type": "display_data"
    },
    {
     "data": {
      "text/markdown": [
       "<span style=\"color:#33cc33\">Correct</span>"
      ],
      "text/plain": [
       "Correct"
      ]
     },
     "metadata": {},
     "output_type": "display_data"
    }
   ],
   "source": [
    "best_rating_per_price = reviews.groupby('price')['points'].max().sort_index()\n",
    "\n",
    "# Check your answer\n",
    "q2.check()"
   ]
  },
  {
   "cell_type": "code",
   "execution_count": 5,
   "id": "5c80ed17",
   "metadata": {
    "execution": {
     "iopub.execute_input": "2024-03-21T16:12:49.286655Z",
     "iopub.status.busy": "2024-03-21T16:12:49.285704Z",
     "iopub.status.idle": "2024-03-21T16:12:49.291111Z",
     "shell.execute_reply": "2024-03-21T16:12:49.289805Z"
    },
    "papermill": {
     "duration": 0.020918,
     "end_time": "2024-03-21T16:12:49.294478",
     "exception": false,
     "start_time": "2024-03-21T16:12:49.273560",
     "status": "completed"
    },
    "tags": []
   },
   "outputs": [],
   "source": [
    "#q2.hint()\n",
    "# q2.solution()"
   ]
  },
  {
   "cell_type": "markdown",
   "id": "079d09ce",
   "metadata": {
    "papermill": {
     "duration": 0.012083,
     "end_time": "2024-03-21T16:12:49.319434",
     "exception": false,
     "start_time": "2024-03-21T16:12:49.307351",
     "status": "completed"
    },
    "tags": []
   },
   "source": [
    "## 3.\n",
    "What are the minimum and maximum prices for each `variety` of wine? Create a `DataFrame` whose index is the `variety` category from the dataset and whose values are the `min` and `max` values thereof."
   ]
  },
  {
   "cell_type": "code",
   "execution_count": 6,
   "id": "b0404f7e",
   "metadata": {
    "execution": {
     "iopub.execute_input": "2024-03-21T16:12:49.347407Z",
     "iopub.status.busy": "2024-03-21T16:12:49.346269Z",
     "iopub.status.idle": "2024-03-21T16:12:49.393473Z",
     "shell.execute_reply": "2024-03-21T16:12:49.392217Z"
    },
    "papermill": {
     "duration": 0.065703,
     "end_time": "2024-03-21T16:12:49.398195",
     "exception": false,
     "start_time": "2024-03-21T16:12:49.332492",
     "status": "completed"
    },
    "tags": []
   },
   "outputs": [
    {
     "name": "stderr",
     "output_type": "stream",
     "text": [
      "/tmp/ipykernel_18/500330312.py:2: FutureWarning: The provided callable <built-in function min> is currently using SeriesGroupBy.min. In a future version of pandas, the provided callable will be used directly. To keep current behavior pass the string \"min\" instead.\n",
      "  price_extremes = reviews.groupby('variety').price.agg([min, max])\n",
      "/tmp/ipykernel_18/500330312.py:2: FutureWarning: The provided callable <built-in function max> is currently using SeriesGroupBy.max. In a future version of pandas, the provided callable will be used directly. To keep current behavior pass the string \"max\" instead.\n",
      "  price_extremes = reviews.groupby('variety').price.agg([min, max])\n"
     ]
    },
    {
     "data": {
      "application/javascript": [
       "parent.postMessage({\"jupyterEvent\": \"custom.exercise_interaction\", \"data\": {\"outcomeType\": 1, \"valueTowardsCompletion\": 0.16666666666666666, \"interactionType\": 1, \"questionType\": 1, \"questionId\": \"3_PriceExtremes\", \"learnToolsVersion\": \"0.3.4\", \"failureMessage\": \"\", \"exceptionClass\": \"\", \"trace\": \"\"}}, \"*\")"
      ],
      "text/plain": [
       "<IPython.core.display.Javascript object>"
      ]
     },
     "metadata": {},
     "output_type": "display_data"
    },
    {
     "data": {
      "text/markdown": [
       "<span style=\"color:#33cc33\">Correct</span>"
      ],
      "text/plain": [
       "Correct"
      ]
     },
     "metadata": {},
     "output_type": "display_data"
    }
   ],
   "source": [
    "# price_extremes = reviews.groupby('variety').price.agg([min, max])\n",
    "price_extremes = reviews.groupby('variety').price.agg([min, max])\n",
    "# Check your answer\n",
    "q3.check()"
   ]
  },
  {
   "cell_type": "code",
   "execution_count": 7,
   "id": "f27b549c",
   "metadata": {
    "execution": {
     "iopub.execute_input": "2024-03-21T16:12:49.420544Z",
     "iopub.status.busy": "2024-03-21T16:12:49.420061Z",
     "iopub.status.idle": "2024-03-21T16:12:49.425344Z",
     "shell.execute_reply": "2024-03-21T16:12:49.424120Z"
    },
    "papermill": {
     "duration": 0.019623,
     "end_time": "2024-03-21T16:12:49.427802",
     "exception": false,
     "start_time": "2024-03-21T16:12:49.408179",
     "status": "completed"
    },
    "tags": []
   },
   "outputs": [],
   "source": [
    "#q3.hint()\n",
    "# q3.solution()"
   ]
  },
  {
   "cell_type": "markdown",
   "id": "ce4eec0e",
   "metadata": {
    "papermill": {
     "duration": 0.009692,
     "end_time": "2024-03-21T16:12:49.447691",
     "exception": false,
     "start_time": "2024-03-21T16:12:49.437999",
     "status": "completed"
    },
    "tags": []
   },
   "source": [
    "## 4.\n",
    "What are the most expensive wine varieties? Create a variable `sorted_varieties` containing a copy of the dataframe from the previous question where varieties are sorted in descending order based on minimum price, then on maximum price (to break ties)."
   ]
  },
  {
   "cell_type": "code",
   "execution_count": 8,
   "id": "17c401bd",
   "metadata": {
    "execution": {
     "iopub.execute_input": "2024-03-21T16:12:49.470751Z",
     "iopub.status.busy": "2024-03-21T16:12:49.469798Z",
     "iopub.status.idle": "2024-03-21T16:12:49.483655Z",
     "shell.execute_reply": "2024-03-21T16:12:49.482304Z"
    },
    "papermill": {
     "duration": 0.028979,
     "end_time": "2024-03-21T16:12:49.486697",
     "exception": false,
     "start_time": "2024-03-21T16:12:49.457718",
     "status": "completed"
    },
    "tags": []
   },
   "outputs": [
    {
     "data": {
      "application/javascript": [
       "parent.postMessage({\"jupyterEvent\": \"custom.exercise_interaction\", \"data\": {\"outcomeType\": 1, \"valueTowardsCompletion\": 0.16666666666666666, \"interactionType\": 1, \"questionType\": 1, \"questionId\": \"4_SortedVarieties\", \"learnToolsVersion\": \"0.3.4\", \"failureMessage\": \"\", \"exceptionClass\": \"\", \"trace\": \"\"}}, \"*\")"
      ],
      "text/plain": [
       "<IPython.core.display.Javascript object>"
      ]
     },
     "metadata": {},
     "output_type": "display_data"
    },
    {
     "data": {
      "text/markdown": [
       "<span style=\"color:#33cc33\">Correct</span>"
      ],
      "text/plain": [
       "Correct"
      ]
     },
     "metadata": {},
     "output_type": "display_data"
    }
   ],
   "source": [
    "sorted_varieties = price_extremes.sort_values(['min', 'max'], ascending=False)\n",
    "\n",
    "# Check your answer\n",
    "q4.check()"
   ]
  },
  {
   "cell_type": "code",
   "execution_count": 9,
   "id": "6f51b3f4",
   "metadata": {
    "execution": {
     "iopub.execute_input": "2024-03-21T16:12:49.517488Z",
     "iopub.status.busy": "2024-03-21T16:12:49.516086Z",
     "iopub.status.idle": "2024-03-21T16:12:49.522453Z",
     "shell.execute_reply": "2024-03-21T16:12:49.521044Z"
    },
    "papermill": {
     "duration": 0.02397,
     "end_time": "2024-03-21T16:12:49.525451",
     "exception": false,
     "start_time": "2024-03-21T16:12:49.501481",
     "status": "completed"
    },
    "tags": []
   },
   "outputs": [],
   "source": [
    "#q4.hint()\n",
    "#q4.solution()"
   ]
  },
  {
   "cell_type": "markdown",
   "id": "d0a47f21",
   "metadata": {
    "papermill": {
     "duration": 0.010661,
     "end_time": "2024-03-21T16:12:49.547812",
     "exception": false,
     "start_time": "2024-03-21T16:12:49.537151",
     "status": "completed"
    },
    "tags": []
   },
   "source": [
    "## 5.\n",
    "Create a `Series` whose index is reviewers and whose values is the average review score given out by that reviewer. Hint: you will need the `taster_name` and `points` columns."
   ]
  },
  {
   "cell_type": "code",
   "execution_count": 10,
   "id": "5fd12913",
   "metadata": {
    "execution": {
     "iopub.execute_input": "2024-03-21T16:12:49.572599Z",
     "iopub.status.busy": "2024-03-21T16:12:49.571681Z",
     "iopub.status.idle": "2024-03-21T16:12:49.618277Z",
     "shell.execute_reply": "2024-03-21T16:12:49.617001Z"
    },
    "papermill": {
     "duration": 0.062578,
     "end_time": "2024-03-21T16:12:49.621651",
     "exception": false,
     "start_time": "2024-03-21T16:12:49.559073",
     "status": "completed"
    },
    "tags": []
   },
   "outputs": [
    {
     "data": {
      "application/javascript": [
       "parent.postMessage({\"jupyterEvent\": \"custom.exercise_interaction\", \"data\": {\"outcomeType\": 1, \"valueTowardsCompletion\": 0.16666666666666666, \"interactionType\": 1, \"questionType\": 1, \"questionId\": \"5_ReviewerMeanRatings\", \"learnToolsVersion\": \"0.3.4\", \"failureMessage\": \"\", \"exceptionClass\": \"\", \"trace\": \"\"}}, \"*\")"
      ],
      "text/plain": [
       "<IPython.core.display.Javascript object>"
      ]
     },
     "metadata": {},
     "output_type": "display_data"
    },
    {
     "data": {
      "text/markdown": [
       "<span style=\"color:#33cc33\">Correct</span>"
      ],
      "text/plain": [
       "Correct"
      ]
     },
     "metadata": {},
     "output_type": "display_data"
    }
   ],
   "source": [
    "reviewer_mean_ratings = reviews.groupby('taster_name').points.mean()\n",
    "\n",
    "# Check your answer\n",
    "q5.check()"
   ]
  },
  {
   "cell_type": "code",
   "execution_count": 11,
   "id": "b2002294",
   "metadata": {
    "execution": {
     "iopub.execute_input": "2024-03-21T16:12:49.645939Z",
     "iopub.status.busy": "2024-03-21T16:12:49.645473Z",
     "iopub.status.idle": "2024-03-21T16:12:49.650858Z",
     "shell.execute_reply": "2024-03-21T16:12:49.649591Z"
    },
    "papermill": {
     "duration": 0.020673,
     "end_time": "2024-03-21T16:12:49.653268",
     "exception": false,
     "start_time": "2024-03-21T16:12:49.632595",
     "status": "completed"
    },
    "tags": []
   },
   "outputs": [],
   "source": [
    "#q5.hint()\n",
    "# q5.solution()"
   ]
  },
  {
   "cell_type": "markdown",
   "id": "f26266d6",
   "metadata": {
    "papermill": {
     "duration": 0.010342,
     "end_time": "2024-03-21T16:12:49.674919",
     "exception": false,
     "start_time": "2024-03-21T16:12:49.664577",
     "status": "completed"
    },
    "tags": []
   },
   "source": [
    "Are there significant differences in the average scores assigned by the various reviewers? Run the cell below to use the `describe()` method to see a summary of the range of values."
   ]
  },
  {
   "cell_type": "code",
   "execution_count": 12,
   "id": "b0228351",
   "metadata": {
    "execution": {
     "iopub.execute_input": "2024-03-21T16:12:49.699047Z",
     "iopub.status.busy": "2024-03-21T16:12:49.698024Z",
     "iopub.status.idle": "2024-03-21T16:12:49.711381Z",
     "shell.execute_reply": "2024-03-21T16:12:49.710147Z"
    },
    "papermill": {
     "duration": 0.028669,
     "end_time": "2024-03-21T16:12:49.714278",
     "exception": false,
     "start_time": "2024-03-21T16:12:49.685609",
     "status": "completed"
    },
    "tags": []
   },
   "outputs": [
    {
     "data": {
      "text/plain": [
       "count    19.000000\n",
       "mean     88.233026\n",
       "std       1.243610\n",
       "min      85.855422\n",
       "25%      87.323501\n",
       "50%      88.536235\n",
       "75%      88.975256\n",
       "max      90.562551\n",
       "Name: points, dtype: float64"
      ]
     },
     "execution_count": 12,
     "metadata": {},
     "output_type": "execute_result"
    }
   ],
   "source": [
    "reviewer_mean_ratings.describe()"
   ]
  },
  {
   "cell_type": "markdown",
   "id": "af263ec0",
   "metadata": {
    "papermill": {
     "duration": 0.010456,
     "end_time": "2024-03-21T16:12:49.735736",
     "exception": false,
     "start_time": "2024-03-21T16:12:49.725280",
     "status": "completed"
    },
    "tags": []
   },
   "source": [
    "## 6.\n",
    "What combination of countries and varieties are most common? Create a `Series` whose index is a `MultiIndex`of `{country, variety}` pairs. For example, a pinot noir produced in the US should map to `{\"US\", \"Pinot Noir\"}`. Sort the values in the `Series` in descending order based on wine count."
   ]
  },
  {
   "cell_type": "code",
   "execution_count": 13,
   "id": "85bc4d07",
   "metadata": {
    "execution": {
     "iopub.execute_input": "2024-03-21T16:12:49.759901Z",
     "iopub.status.busy": "2024-03-21T16:12:49.759436Z",
     "iopub.status.idle": "2024-03-21T16:12:49.828346Z",
     "shell.execute_reply": "2024-03-21T16:12:49.827490Z"
    },
    "papermill": {
     "duration": 0.083926,
     "end_time": "2024-03-21T16:12:49.830779",
     "exception": false,
     "start_time": "2024-03-21T16:12:49.746853",
     "status": "completed"
    },
    "tags": []
   },
   "outputs": [
    {
     "data": {
      "application/javascript": [
       "parent.postMessage({\"jupyterEvent\": \"custom.exercise_interaction\", \"data\": {\"outcomeType\": 1, \"valueTowardsCompletion\": 0.16666666666666666, \"interactionType\": 1, \"questionType\": 1, \"questionId\": \"6_GroupbyCountryVariety\", \"learnToolsVersion\": \"0.3.4\", \"failureMessage\": \"\", \"exceptionClass\": \"\", \"trace\": \"\"}}, \"*\")"
      ],
      "text/plain": [
       "<IPython.core.display.Javascript object>"
      ]
     },
     "metadata": {},
     "output_type": "display_data"
    },
    {
     "data": {
      "text/markdown": [
       "<span style=\"color:#33cc33\">Correct</span>"
      ],
      "text/plain": [
       "Correct"
      ]
     },
     "metadata": {},
     "output_type": "display_data"
    }
   ],
   "source": [
    "country_variety_counts = reviews.groupby(['country', 'variety']).size().sort_values(ascending=False)\n",
    "\n",
    "# Check your answer\n",
    "q6.check()"
   ]
  },
  {
   "cell_type": "code",
   "execution_count": 14,
   "id": "8450639f",
   "metadata": {
    "execution": {
     "iopub.execute_input": "2024-03-21T16:12:49.864348Z",
     "iopub.status.busy": "2024-03-21T16:12:49.863748Z",
     "iopub.status.idle": "2024-03-21T16:12:49.868332Z",
     "shell.execute_reply": "2024-03-21T16:12:49.867213Z"
    },
    "papermill": {
     "duration": 0.02905,
     "end_time": "2024-03-21T16:12:49.872868",
     "exception": false,
     "start_time": "2024-03-21T16:12:49.843818",
     "status": "completed"
    },
    "tags": []
   },
   "outputs": [],
   "source": [
    "#q6.hint()\n",
    "# q6.solution()"
   ]
  },
  {
   "cell_type": "markdown",
   "id": "30326071",
   "metadata": {
    "papermill": {
     "duration": 0.015353,
     "end_time": "2024-03-21T16:12:49.904439",
     "exception": false,
     "start_time": "2024-03-21T16:12:49.889086",
     "status": "completed"
    },
    "tags": []
   },
   "source": [
    "# Keep going\n",
    "\n",
    "Move on to the [**data types and missing data**](https://www.kaggle.com/residentmario/data-types-and-missing-values)."
   ]
  },
  {
   "cell_type": "markdown",
   "id": "fa276b60",
   "metadata": {
    "papermill": {
     "duration": 0.010968,
     "end_time": "2024-03-21T16:12:49.928949",
     "exception": false,
     "start_time": "2024-03-21T16:12:49.917981",
     "status": "completed"
    },
    "tags": []
   },
   "source": [
    "---\n",
    "\n",
    "\n",
    "\n",
    "\n",
    "*Have questions or comments? Visit the [course discussion forum](https://www.kaggle.com/learn/pandas/discussion) to chat with other learners.*"
   ]
  }
 ],
 "metadata": {
  "kaggle": {
   "accelerator": "none",
   "dataSources": [
    {
     "datasetId": 655,
     "sourceId": 1252,
     "sourceType": "datasetVersion"
    },
    {
     "datasetId": 2321,
     "sourceId": 3919,
     "sourceType": "datasetVersion"
    },
    {
     "datasetId": 2894,
     "sourceId": 4877,
     "sourceType": "datasetVersion"
    },
    {
     "datasetId": 3491,
     "sourceId": 5624,
     "sourceType": "datasetVersion"
    },
    {
     "datasetId": 1442,
     "sourceId": 8172,
     "sourceType": "datasetVersion"
    },
    {
     "datasetId": 9366,
     "sourceId": 13206,
     "sourceType": "datasetVersion"
    },
    {
     "datasetId": 179555,
     "sourceId": 403916,
     "sourceType": "datasetVersion"
    },
    {
     "datasetId": 4549,
     "sourceId": 466349,
     "sourceType": "datasetVersion"
    },
    {
     "datasetId": 2478,
     "sourceId": 1151655,
     "sourceType": "datasetVersion"
    },
    {
     "datasetId": 10128,
     "sourceId": 5438389,
     "sourceType": "datasetVersion"
    }
   ],
   "isGpuEnabled": false,
   "isInternetEnabled": false,
   "language": "python",
   "sourceType": "notebook"
  },
  "kernelspec": {
   "display_name": "Python 3",
   "language": "python",
   "name": "python3"
  },
  "language_info": {
   "codemirror_mode": {
    "name": "ipython",
    "version": 3
   },
   "file_extension": ".py",
   "mimetype": "text/x-python",
   "name": "python",
   "nbconvert_exporter": "python",
   "pygments_lexer": "ipython3",
   "version": "3.10.13"
  },
  "papermill": {
   "default_parameters": {},
   "duration": 10.506151,
   "end_time": "2024-03-21T16:12:50.777351",
   "environment_variables": {},
   "exception": null,
   "input_path": "__notebook__.ipynb",
   "output_path": "__notebook__.ipynb",
   "parameters": {},
   "start_time": "2024-03-21T16:12:40.271200",
   "version": "2.5.0"
  }
 },
 "nbformat": 4,
 "nbformat_minor": 5
}
