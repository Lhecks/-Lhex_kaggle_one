{
 "cells": [
  {
   "cell_type": "code",
   "execution_count": 1,
   "id": "91937bad",
   "metadata": {
    "_cell_guid": "b1076dfc-b9ad-4769-8c92-a6c4dae69d19",
    "_uuid": "8f2839f25d086af736a60e9eeb907d3b93b6e0e5",
    "execution": {
     "iopub.execute_input": "2024-06-06T14:04:09.174271Z",
     "iopub.status.busy": "2024-06-06T14:04:09.173837Z",
     "iopub.status.idle": "2024-06-06T14:04:10.082917Z",
     "shell.execute_reply": "2024-06-06T14:04:10.081402Z"
    },
    "papermill": {
     "duration": 0.918975,
     "end_time": "2024-06-06T14:04:10.085368",
     "exception": false,
     "start_time": "2024-06-06T14:04:09.166393",
     "status": "completed"
    },
    "tags": []
   },
   "outputs": [
    {
     "name": "stdout",
     "output_type": "stream",
     "text": [
      "/kaggle/input/csv-files-lhex/job_postings_fact.csv\n",
      "/kaggle/input/csv-files-lhex/skills_dim.csv\n",
      "/kaggle/input/csv-files-lhex/company_dim.csv\n"
     ]
    }
   ],
   "source": [
    "# This Python 3 environment comes with many helpful analytics libraries installed\n",
    "# It is defined by the kaggle/python Docker image: https://github.com/kaggle/docker-python\n",
    "# For example, here's several helpful packages to load\n",
    "\n",
    "import numpy as np # linear algebra\n",
    "import pandas as pd # data processing, CSV file I/O (e.g. pd.read_csv)\n",
    "import matplotlib.pyplot as plt\n",
    "\n",
    "# Input data files are available in the read-only \"../input/\" directory\n",
    "# For example, running this (by clicking run or pressing Shift+Enter) will list all files under the input directory\n",
    "\n",
    "import os\n",
    "for dirname, _, filenames in os.walk('/kaggle/input'):\n",
    "    for filename in filenames:\n",
    "        print(os.path.join(dirname, filename))\n",
    "\n",
    "# You can write up to 20GB to the current directory (/kaggle/working/) that gets preserved as output when you create a version using \"Save & Run All\" \n",
    "# You can also write temporary files to /kaggle/temp/, but they won't be saved outside of the current session"
   ]
  },
  {
   "cell_type": "code",
   "execution_count": 2,
   "id": "d24fe28b",
   "metadata": {
    "execution": {
     "iopub.execute_input": "2024-06-06T14:04:10.098419Z",
     "iopub.status.busy": "2024-06-06T14:04:10.096963Z",
     "iopub.status.idle": "2024-06-06T14:04:16.263307Z",
     "shell.execute_reply": "2024-06-06T14:04:16.262140Z"
    },
    "papermill": {
     "duration": 6.175214,
     "end_time": "2024-06-06T14:04:16.265837",
     "exception": false,
     "start_time": "2024-06-06T14:04:10.090623",
     "status": "completed"
    },
    "tags": []
   },
   "outputs": [],
   "source": [
    "job_postings_df = pd.read_csv('/kaggle/input/csv-files-lhex/job_postings_fact.csv')\n",
    "company_dim_df = pd.read_csv('/kaggle/input/csv-files-lhex/company_dim.csv')\n",
    "skill_dim_df = pd.read_csv('/kaggle/input/csv-files-lhex/skills_dim.csv')"
   ]
  },
  {
   "cell_type": "code",
   "execution_count": 3,
   "id": "74ea009d",
   "metadata": {
    "execution": {
     "iopub.execute_input": "2024-06-06T14:04:16.277179Z",
     "iopub.status.busy": "2024-06-06T14:04:16.276438Z",
     "iopub.status.idle": "2024-06-06T14:04:16.306405Z",
     "shell.execute_reply": "2024-06-06T14:04:16.305299Z"
    },
    "papermill": {
     "duration": 0.03812,
     "end_time": "2024-06-06T14:04:16.308699",
     "exception": false,
     "start_time": "2024-06-06T14:04:16.270579",
     "status": "completed"
    },
    "tags": []
   },
   "outputs": [
    {
     "data": {
      "text/html": [
       "<div>\n",
       "<style scoped>\n",
       "    .dataframe tbody tr th:only-of-type {\n",
       "        vertical-align: middle;\n",
       "    }\n",
       "\n",
       "    .dataframe tbody tr th {\n",
       "        vertical-align: top;\n",
       "    }\n",
       "\n",
       "    .dataframe thead th {\n",
       "        text-align: right;\n",
       "    }\n",
       "</style>\n",
       "<table border=\"1\" class=\"dataframe\">\n",
       "  <thead>\n",
       "    <tr style=\"text-align: right;\">\n",
       "      <th></th>\n",
       "      <th>job_id</th>\n",
       "      <th>company_id</th>\n",
       "      <th>job_title_short</th>\n",
       "      <th>job_title</th>\n",
       "      <th>job_location</th>\n",
       "      <th>job_via</th>\n",
       "      <th>job_schedule_type</th>\n",
       "      <th>job_work_from_home</th>\n",
       "      <th>search_location</th>\n",
       "      <th>job_posted_date</th>\n",
       "      <th>job_no_degree_mention</th>\n",
       "      <th>job_health_insurance</th>\n",
       "      <th>job_country</th>\n",
       "      <th>salary_rate</th>\n",
       "      <th>salary_year_avg</th>\n",
       "      <th>salary_hour_avg</th>\n",
       "    </tr>\n",
       "  </thead>\n",
       "  <tbody>\n",
       "    <tr>\n",
       "      <th>0</th>\n",
       "      <td>0</td>\n",
       "      <td>0</td>\n",
       "      <td>Data Analyst</td>\n",
       "      <td>Marketing Data Analyst</td>\n",
       "      <td>Anywhere</td>\n",
       "      <td>via LinkedIn</td>\n",
       "      <td>Full-time</td>\n",
       "      <td>True</td>\n",
       "      <td>Serbia</td>\n",
       "      <td>2023-09-25 17:46:06</td>\n",
       "      <td>False</td>\n",
       "      <td>False</td>\n",
       "      <td>Serbia</td>\n",
       "      <td>NaN</td>\n",
       "      <td>NaN</td>\n",
       "      <td>NaN</td>\n",
       "    </tr>\n",
       "    <tr>\n",
       "      <th>1</th>\n",
       "      <td>55</td>\n",
       "      <td>1</td>\n",
       "      <td>Cloud Engineer</td>\n",
       "      <td>Storage and Virtualization Engineer</td>\n",
       "      <td>Kuwait City, Kuwait</td>\n",
       "      <td>via Trabajo.org</td>\n",
       "      <td>Full-time</td>\n",
       "      <td>False</td>\n",
       "      <td>Kuwait</td>\n",
       "      <td>2023-07-30 17:49:18</td>\n",
       "      <td>True</td>\n",
       "      <td>False</td>\n",
       "      <td>Kuwait</td>\n",
       "      <td>NaN</td>\n",
       "      <td>NaN</td>\n",
       "      <td>NaN</td>\n",
       "    </tr>\n",
       "    <tr>\n",
       "      <th>2</th>\n",
       "      <td>66</td>\n",
       "      <td>2</td>\n",
       "      <td>Data Analyst</td>\n",
       "      <td>Data Analyst et Scientist F/H</td>\n",
       "      <td>Paris, France</td>\n",
       "      <td>via Emplois Trabajo.org</td>\n",
       "      <td>Full-time</td>\n",
       "      <td>False</td>\n",
       "      <td>France</td>\n",
       "      <td>2023-07-28 17:28:01</td>\n",
       "      <td>False</td>\n",
       "      <td>False</td>\n",
       "      <td>France</td>\n",
       "      <td>NaN</td>\n",
       "      <td>NaN</td>\n",
       "      <td>NaN</td>\n",
       "    </tr>\n",
       "    <tr>\n",
       "      <th>3</th>\n",
       "      <td>76</td>\n",
       "      <td>3</td>\n",
       "      <td>Data Engineer</td>\n",
       "      <td>Data Engineer</td>\n",
       "      <td>Denver, CO</td>\n",
       "      <td>via LinkedIn</td>\n",
       "      <td>Contractor</td>\n",
       "      <td>False</td>\n",
       "      <td>Illinois, United States</td>\n",
       "      <td>2023-04-03 17:14:45</td>\n",
       "      <td>False</td>\n",
       "      <td>False</td>\n",
       "      <td>United States</td>\n",
       "      <td>hour</td>\n",
       "      <td>NaN</td>\n",
       "      <td>70.0</td>\n",
       "    </tr>\n",
       "    <tr>\n",
       "      <th>4</th>\n",
       "      <td>81</td>\n",
       "      <td>4</td>\n",
       "      <td>Data Engineer</td>\n",
       "      <td>Data Engineer</td>\n",
       "      <td>Anywhere</td>\n",
       "      <td>via LinkedIn</td>\n",
       "      <td>Contractor</td>\n",
       "      <td>True</td>\n",
       "      <td>Canada</td>\n",
       "      <td>2023-03-25 17:25:20</td>\n",
       "      <td>False</td>\n",
       "      <td>False</td>\n",
       "      <td>Canada</td>\n",
       "      <td>NaN</td>\n",
       "      <td>NaN</td>\n",
       "      <td>NaN</td>\n",
       "    </tr>\n",
       "  </tbody>\n",
       "</table>\n",
       "</div>"
      ],
      "text/plain": [
       "   job_id  company_id job_title_short                            job_title  \\\n",
       "0       0           0    Data Analyst               Marketing Data Analyst   \n",
       "1      55           1  Cloud Engineer  Storage and Virtualization Engineer   \n",
       "2      66           2    Data Analyst        Data Analyst et Scientist F/H   \n",
       "3      76           3   Data Engineer                        Data Engineer   \n",
       "4      81           4   Data Engineer                        Data Engineer   \n",
       "\n",
       "          job_location                  job_via job_schedule_type  \\\n",
       "0             Anywhere             via LinkedIn         Full-time   \n",
       "1  Kuwait City, Kuwait          via Trabajo.org         Full-time   \n",
       "2        Paris, France  via Emplois Trabajo.org         Full-time   \n",
       "3           Denver, CO             via LinkedIn        Contractor   \n",
       "4             Anywhere             via LinkedIn        Contractor   \n",
       "\n",
       "   job_work_from_home          search_location      job_posted_date  \\\n",
       "0                True                   Serbia  2023-09-25 17:46:06   \n",
       "1               False                   Kuwait  2023-07-30 17:49:18   \n",
       "2               False                   France  2023-07-28 17:28:01   \n",
       "3               False  Illinois, United States  2023-04-03 17:14:45   \n",
       "4                True                   Canada  2023-03-25 17:25:20   \n",
       "\n",
       "   job_no_degree_mention  job_health_insurance    job_country salary_rate  \\\n",
       "0                  False                 False         Serbia         NaN   \n",
       "1                   True                 False         Kuwait         NaN   \n",
       "2                  False                 False         France         NaN   \n",
       "3                  False                 False  United States        hour   \n",
       "4                  False                 False         Canada         NaN   \n",
       "\n",
       "   salary_year_avg  salary_hour_avg  \n",
       "0              NaN              NaN  \n",
       "1              NaN              NaN  \n",
       "2              NaN              NaN  \n",
       "3              NaN             70.0  \n",
       "4              NaN              NaN  "
      ]
     },
     "execution_count": 3,
     "metadata": {},
     "output_type": "execute_result"
    }
   ],
   "source": [
    "# Display the first few rows and columns of each DataFrame to understand their structure\n",
    "job_postings_head = job_postings_df.head()\n",
    "job_postings_head"
   ]
  },
  {
   "cell_type": "code",
   "execution_count": 4,
   "id": "2f0f5765",
   "metadata": {
    "execution": {
     "iopub.execute_input": "2024-06-06T14:04:16.320565Z",
     "iopub.status.busy": "2024-06-06T14:04:16.320199Z",
     "iopub.status.idle": "2024-06-06T14:04:16.327284Z",
     "shell.execute_reply": "2024-06-06T14:04:16.326191Z"
    },
    "papermill": {
     "duration": 0.015733,
     "end_time": "2024-06-06T14:04:16.329600",
     "exception": false,
     "start_time": "2024-06-06T14:04:16.313867",
     "status": "completed"
    },
    "tags": []
   },
   "outputs": [
    {
     "data": {
      "text/plain": [
       "['job_id',\n",
       " 'company_id',\n",
       " 'job_title_short',\n",
       " 'job_title',\n",
       " 'job_location',\n",
       " 'job_via',\n",
       " 'job_schedule_type',\n",
       " 'job_work_from_home',\n",
       " 'search_location',\n",
       " 'job_posted_date',\n",
       " 'job_no_degree_mention',\n",
       " 'job_health_insurance',\n",
       " 'job_country',\n",
       " 'salary_rate',\n",
       " 'salary_year_avg',\n",
       " 'salary_hour_avg']"
      ]
     },
     "execution_count": 4,
     "metadata": {},
     "output_type": "execute_result"
    }
   ],
   "source": [
    "job_postings_columns = job_postings_df.columns.tolist()\n",
    "job_postings_columns"
   ]
  },
  {
   "cell_type": "code",
   "execution_count": 5,
   "id": "18d221e6",
   "metadata": {
    "execution": {
     "iopub.execute_input": "2024-06-06T14:04:16.342367Z",
     "iopub.status.busy": "2024-06-06T14:04:16.341968Z",
     "iopub.status.idle": "2024-06-06T14:04:16.354040Z",
     "shell.execute_reply": "2024-06-06T14:04:16.352892Z"
    },
    "papermill": {
     "duration": 0.021999,
     "end_time": "2024-06-06T14:04:16.356848",
     "exception": false,
     "start_time": "2024-06-06T14:04:16.334849",
     "status": "completed"
    },
    "tags": []
   },
   "outputs": [
    {
     "data": {
      "text/html": [
       "<div>\n",
       "<style scoped>\n",
       "    .dataframe tbody tr th:only-of-type {\n",
       "        vertical-align: middle;\n",
       "    }\n",
       "\n",
       "    .dataframe tbody tr th {\n",
       "        vertical-align: top;\n",
       "    }\n",
       "\n",
       "    .dataframe thead th {\n",
       "        text-align: right;\n",
       "    }\n",
       "</style>\n",
       "<table border=\"1\" class=\"dataframe\">\n",
       "  <thead>\n",
       "    <tr style=\"text-align: right;\">\n",
       "      <th></th>\n",
       "      <th>company_id</th>\n",
       "      <th>name</th>\n",
       "      <th>link</th>\n",
       "      <th>link_google</th>\n",
       "      <th>thumbnail</th>\n",
       "    </tr>\n",
       "  </thead>\n",
       "  <tbody>\n",
       "    <tr>\n",
       "      <th>0</th>\n",
       "      <td>0</td>\n",
       "      <td>Cryptology</td>\n",
       "      <td>NaN</td>\n",
       "      <td>https://www.google.com/search?sca_esv=56842508...</td>\n",
       "      <td>https://encrypted-tbn0.gstatic.com/images?q=tb...</td>\n",
       "    </tr>\n",
       "    <tr>\n",
       "      <th>1</th>\n",
       "      <td>1</td>\n",
       "      <td>Edraak</td>\n",
       "      <td>NaN</td>\n",
       "      <td>https://www.google.com/search?hl=en&amp;gl=us&amp;q=Ed...</td>\n",
       "      <td>https://encrypted-tbn0.gstatic.com/images?q=tb...</td>\n",
       "    </tr>\n",
       "    <tr>\n",
       "      <th>2</th>\n",
       "      <td>2</td>\n",
       "      <td>Groupe ADP</td>\n",
       "      <td>http://www.groupeadp.fr/</td>\n",
       "      <td>https://www.google.com/search?gl=us&amp;hl=en&amp;q=Gr...</td>\n",
       "      <td>https://encrypted-tbn0.gstatic.com/images?q=tb...</td>\n",
       "    </tr>\n",
       "    <tr>\n",
       "      <th>3</th>\n",
       "      <td>3</td>\n",
       "      <td>Interactive Resources - iR</td>\n",
       "      <td>NaN</td>\n",
       "      <td>https://www.google.com/search?q=Interactive+Re...</td>\n",
       "      <td>https://encrypted-tbn0.gstatic.com/images?q=tb...</td>\n",
       "    </tr>\n",
       "    <tr>\n",
       "      <th>4</th>\n",
       "      <td>4</td>\n",
       "      <td>Cybernetic Search</td>\n",
       "      <td>NaN</td>\n",
       "      <td>https://www.google.com/search?gl=us&amp;hl=en&amp;q=Cy...</td>\n",
       "      <td>https://encrypted-tbn0.gstatic.com/images?q=tb...</td>\n",
       "    </tr>\n",
       "  </tbody>\n",
       "</table>\n",
       "</div>"
      ],
      "text/plain": [
       "   company_id                        name                      link  \\\n",
       "0           0                  Cryptology                       NaN   \n",
       "1           1                      Edraak                       NaN   \n",
       "2           2                  Groupe ADP  http://www.groupeadp.fr/   \n",
       "3           3  Interactive Resources - iR                       NaN   \n",
       "4           4           Cybernetic Search                       NaN   \n",
       "\n",
       "                                         link_google  \\\n",
       "0  https://www.google.com/search?sca_esv=56842508...   \n",
       "1  https://www.google.com/search?hl=en&gl=us&q=Ed...   \n",
       "2  https://www.google.com/search?gl=us&hl=en&q=Gr...   \n",
       "3  https://www.google.com/search?q=Interactive+Re...   \n",
       "4  https://www.google.com/search?gl=us&hl=en&q=Cy...   \n",
       "\n",
       "                                           thumbnail  \n",
       "0  https://encrypted-tbn0.gstatic.com/images?q=tb...  \n",
       "1  https://encrypted-tbn0.gstatic.com/images?q=tb...  \n",
       "2  https://encrypted-tbn0.gstatic.com/images?q=tb...  \n",
       "3  https://encrypted-tbn0.gstatic.com/images?q=tb...  \n",
       "4  https://encrypted-tbn0.gstatic.com/images?q=tb...  "
      ]
     },
     "execution_count": 5,
     "metadata": {},
     "output_type": "execute_result"
    }
   ],
   "source": [
    "company_dim_head = company_dim_df.head()\n",
    "company_dim_head"
   ]
  },
  {
   "cell_type": "code",
   "execution_count": 6,
   "id": "a53314a9",
   "metadata": {
    "execution": {
     "iopub.execute_input": "2024-06-06T14:04:16.369554Z",
     "iopub.status.busy": "2024-06-06T14:04:16.369164Z",
     "iopub.status.idle": "2024-06-06T14:04:16.376445Z",
     "shell.execute_reply": "2024-06-06T14:04:16.375179Z"
    },
    "papermill": {
     "duration": 0.016268,
     "end_time": "2024-06-06T14:04:16.378817",
     "exception": false,
     "start_time": "2024-06-06T14:04:16.362549",
     "status": "completed"
    },
    "tags": []
   },
   "outputs": [
    {
     "data": {
      "text/plain": [
       "['company_id', 'name', 'link', 'link_google', 'thumbnail']"
      ]
     },
     "execution_count": 6,
     "metadata": {},
     "output_type": "execute_result"
    }
   ],
   "source": [
    "company_dim_columns = company_dim_df.columns.tolist()\n",
    "company_dim_columns"
   ]
  },
  {
   "cell_type": "code",
   "execution_count": 7,
   "id": "3c83061f",
   "metadata": {
    "execution": {
     "iopub.execute_input": "2024-06-06T14:04:16.392520Z",
     "iopub.status.busy": "2024-06-06T14:04:16.392099Z",
     "iopub.status.idle": "2024-06-06T14:04:16.397313Z",
     "shell.execute_reply": "2024-06-06T14:04:16.396213Z"
    },
    "papermill": {
     "duration": 0.01513,
     "end_time": "2024-06-06T14:04:16.399881",
     "exception": false,
     "start_time": "2024-06-06T14:04:16.384751",
     "status": "completed"
    },
    "tags": []
   },
   "outputs": [],
   "source": [
    "company_dims_head = company_dim_df.head()\n",
    "company_dims_columns = company_dim_df.columns.tolist()"
   ]
  },
  {
   "cell_type": "code",
   "execution_count": 8,
   "id": "90e4777a",
   "metadata": {
    "execution": {
     "iopub.execute_input": "2024-06-06T14:04:16.413676Z",
     "iopub.status.busy": "2024-06-06T14:04:16.413232Z",
     "iopub.status.idle": "2024-06-06T14:04:16.420388Z",
     "shell.execute_reply": "2024-06-06T14:04:16.419358Z"
    },
    "papermill": {
     "duration": 0.017047,
     "end_time": "2024-06-06T14:04:16.422648",
     "exception": false,
     "start_time": "2024-06-06T14:04:16.405601",
     "status": "completed"
    },
    "tags": []
   },
   "outputs": [
    {
     "data": {
      "text/plain": [
       "['company_id', 'name', 'link', 'link_google', 'thumbnail']"
      ]
     },
     "execution_count": 8,
     "metadata": {},
     "output_type": "execute_result"
    }
   ],
   "source": [
    "company_dims_columns"
   ]
  },
  {
   "cell_type": "code",
   "execution_count": 9,
   "id": "d773a618",
   "metadata": {
    "execution": {
     "iopub.execute_input": "2024-06-06T14:04:16.436063Z",
     "iopub.status.busy": "2024-06-06T14:04:16.435708Z",
     "iopub.status.idle": "2024-06-06T14:04:16.447808Z",
     "shell.execute_reply": "2024-06-06T14:04:16.446576Z"
    },
    "papermill": {
     "duration": 0.022068,
     "end_time": "2024-06-06T14:04:16.450339",
     "exception": false,
     "start_time": "2024-06-06T14:04:16.428271",
     "status": "completed"
    },
    "tags": []
   },
   "outputs": [
    {
     "data": {
      "text/html": [
       "<div>\n",
       "<style scoped>\n",
       "    .dataframe tbody tr th:only-of-type {\n",
       "        vertical-align: middle;\n",
       "    }\n",
       "\n",
       "    .dataframe tbody tr th {\n",
       "        vertical-align: top;\n",
       "    }\n",
       "\n",
       "    .dataframe thead th {\n",
       "        text-align: right;\n",
       "    }\n",
       "</style>\n",
       "<table border=\"1\" class=\"dataframe\">\n",
       "  <thead>\n",
       "    <tr style=\"text-align: right;\">\n",
       "      <th></th>\n",
       "      <th>company_id</th>\n",
       "      <th>name</th>\n",
       "      <th>link</th>\n",
       "      <th>link_google</th>\n",
       "      <th>thumbnail</th>\n",
       "    </tr>\n",
       "  </thead>\n",
       "  <tbody>\n",
       "    <tr>\n",
       "      <th>0</th>\n",
       "      <td>0</td>\n",
       "      <td>Cryptology</td>\n",
       "      <td>NaN</td>\n",
       "      <td>https://www.google.com/search?sca_esv=56842508...</td>\n",
       "      <td>https://encrypted-tbn0.gstatic.com/images?q=tb...</td>\n",
       "    </tr>\n",
       "    <tr>\n",
       "      <th>1</th>\n",
       "      <td>1</td>\n",
       "      <td>Edraak</td>\n",
       "      <td>NaN</td>\n",
       "      <td>https://www.google.com/search?hl=en&amp;gl=us&amp;q=Ed...</td>\n",
       "      <td>https://encrypted-tbn0.gstatic.com/images?q=tb...</td>\n",
       "    </tr>\n",
       "    <tr>\n",
       "      <th>2</th>\n",
       "      <td>2</td>\n",
       "      <td>Groupe ADP</td>\n",
       "      <td>http://www.groupeadp.fr/</td>\n",
       "      <td>https://www.google.com/search?gl=us&amp;hl=en&amp;q=Gr...</td>\n",
       "      <td>https://encrypted-tbn0.gstatic.com/images?q=tb...</td>\n",
       "    </tr>\n",
       "    <tr>\n",
       "      <th>3</th>\n",
       "      <td>3</td>\n",
       "      <td>Interactive Resources - iR</td>\n",
       "      <td>NaN</td>\n",
       "      <td>https://www.google.com/search?q=Interactive+Re...</td>\n",
       "      <td>https://encrypted-tbn0.gstatic.com/images?q=tb...</td>\n",
       "    </tr>\n",
       "    <tr>\n",
       "      <th>4</th>\n",
       "      <td>4</td>\n",
       "      <td>Cybernetic Search</td>\n",
       "      <td>NaN</td>\n",
       "      <td>https://www.google.com/search?gl=us&amp;hl=en&amp;q=Cy...</td>\n",
       "      <td>https://encrypted-tbn0.gstatic.com/images?q=tb...</td>\n",
       "    </tr>\n",
       "  </tbody>\n",
       "</table>\n",
       "</div>"
      ],
      "text/plain": [
       "   company_id                        name                      link  \\\n",
       "0           0                  Cryptology                       NaN   \n",
       "1           1                      Edraak                       NaN   \n",
       "2           2                  Groupe ADP  http://www.groupeadp.fr/   \n",
       "3           3  Interactive Resources - iR                       NaN   \n",
       "4           4           Cybernetic Search                       NaN   \n",
       "\n",
       "                                         link_google  \\\n",
       "0  https://www.google.com/search?sca_esv=56842508...   \n",
       "1  https://www.google.com/search?hl=en&gl=us&q=Ed...   \n",
       "2  https://www.google.com/search?gl=us&hl=en&q=Gr...   \n",
       "3  https://www.google.com/search?q=Interactive+Re...   \n",
       "4  https://www.google.com/search?gl=us&hl=en&q=Cy...   \n",
       "\n",
       "                                           thumbnail  \n",
       "0  https://encrypted-tbn0.gstatic.com/images?q=tb...  \n",
       "1  https://encrypted-tbn0.gstatic.com/images?q=tb...  \n",
       "2  https://encrypted-tbn0.gstatic.com/images?q=tb...  \n",
       "3  https://encrypted-tbn0.gstatic.com/images?q=tb...  \n",
       "4  https://encrypted-tbn0.gstatic.com/images?q=tb...  "
      ]
     },
     "execution_count": 9,
     "metadata": {},
     "output_type": "execute_result"
    }
   ],
   "source": [
    "company_dims_head"
   ]
  },
  {
   "cell_type": "code",
   "execution_count": 10,
   "id": "ddc72a74",
   "metadata": {
    "execution": {
     "iopub.execute_input": "2024-06-06T14:04:16.463781Z",
     "iopub.status.busy": "2024-06-06T14:04:16.463411Z",
     "iopub.status.idle": "2024-06-06T14:04:19.341829Z",
     "shell.execute_reply": "2024-06-06T14:04:19.340636Z"
    },
    "papermill": {
     "duration": 2.888151,
     "end_time": "2024-06-06T14:04:19.344385",
     "exception": false,
     "start_time": "2024-06-06T14:04:16.456234",
     "status": "completed"
    },
    "tags": []
   },
   "outputs": [
    {
     "data": {
      "text/html": [
       "<div>\n",
       "<style scoped>\n",
       "    .dataframe tbody tr th:only-of-type {\n",
       "        vertical-align: middle;\n",
       "    }\n",
       "\n",
       "    .dataframe tbody tr th {\n",
       "        vertical-align: top;\n",
       "    }\n",
       "\n",
       "    .dataframe thead th {\n",
       "        text-align: right;\n",
       "    }\n",
       "</style>\n",
       "<table border=\"1\" class=\"dataframe\">\n",
       "  <thead>\n",
       "    <tr style=\"text-align: right;\">\n",
       "      <th></th>\n",
       "      <th>job_id</th>\n",
       "      <th>company_id</th>\n",
       "      <th>job_title_short</th>\n",
       "      <th>job_title</th>\n",
       "      <th>job_location</th>\n",
       "      <th>job_via</th>\n",
       "      <th>job_schedule_type</th>\n",
       "      <th>job_work_from_home</th>\n",
       "      <th>search_location</th>\n",
       "      <th>job_posted_date</th>\n",
       "      <th>...</th>\n",
       "      <th>salary_year_avg</th>\n",
       "      <th>salary_hour_avg</th>\n",
       "      <th>name_dim</th>\n",
       "      <th>link_dim</th>\n",
       "      <th>link_google_dim</th>\n",
       "      <th>thumbnail_dim</th>\n",
       "      <th>name_dims</th>\n",
       "      <th>link_dims</th>\n",
       "      <th>link_google_dims</th>\n",
       "      <th>thumbnail_dims</th>\n",
       "    </tr>\n",
       "  </thead>\n",
       "  <tbody>\n",
       "    <tr>\n",
       "      <th>0</th>\n",
       "      <td>0</td>\n",
       "      <td>0</td>\n",
       "      <td>Data Analyst</td>\n",
       "      <td>Marketing Data Analyst</td>\n",
       "      <td>Anywhere</td>\n",
       "      <td>via LinkedIn</td>\n",
       "      <td>Full-time</td>\n",
       "      <td>True</td>\n",
       "      <td>Serbia</td>\n",
       "      <td>2023-09-25 17:46:06</td>\n",
       "      <td>...</td>\n",
       "      <td>NaN</td>\n",
       "      <td>NaN</td>\n",
       "      <td>Cryptology</td>\n",
       "      <td>NaN</td>\n",
       "      <td>https://www.google.com/search?sca_esv=56842508...</td>\n",
       "      <td>https://encrypted-tbn0.gstatic.com/images?q=tb...</td>\n",
       "      <td>Cryptology</td>\n",
       "      <td>NaN</td>\n",
       "      <td>https://www.google.com/search?sca_esv=56842508...</td>\n",
       "      <td>https://encrypted-tbn0.gstatic.com/images?q=tb...</td>\n",
       "    </tr>\n",
       "    <tr>\n",
       "      <th>1</th>\n",
       "      <td>55</td>\n",
       "      <td>1</td>\n",
       "      <td>Cloud Engineer</td>\n",
       "      <td>Storage and Virtualization Engineer</td>\n",
       "      <td>Kuwait City, Kuwait</td>\n",
       "      <td>via Trabajo.org</td>\n",
       "      <td>Full-time</td>\n",
       "      <td>False</td>\n",
       "      <td>Kuwait</td>\n",
       "      <td>2023-07-30 17:49:18</td>\n",
       "      <td>...</td>\n",
       "      <td>NaN</td>\n",
       "      <td>NaN</td>\n",
       "      <td>Edraak</td>\n",
       "      <td>NaN</td>\n",
       "      <td>https://www.google.com/search?hl=en&amp;gl=us&amp;q=Ed...</td>\n",
       "      <td>https://encrypted-tbn0.gstatic.com/images?q=tb...</td>\n",
       "      <td>Edraak</td>\n",
       "      <td>NaN</td>\n",
       "      <td>https://www.google.com/search?hl=en&amp;gl=us&amp;q=Ed...</td>\n",
       "      <td>https://encrypted-tbn0.gstatic.com/images?q=tb...</td>\n",
       "    </tr>\n",
       "    <tr>\n",
       "      <th>2</th>\n",
       "      <td>66</td>\n",
       "      <td>2</td>\n",
       "      <td>Data Analyst</td>\n",
       "      <td>Data Analyst et Scientist F/H</td>\n",
       "      <td>Paris, France</td>\n",
       "      <td>via Emplois Trabajo.org</td>\n",
       "      <td>Full-time</td>\n",
       "      <td>False</td>\n",
       "      <td>France</td>\n",
       "      <td>2023-07-28 17:28:01</td>\n",
       "      <td>...</td>\n",
       "      <td>NaN</td>\n",
       "      <td>NaN</td>\n",
       "      <td>Groupe ADP</td>\n",
       "      <td>http://www.groupeadp.fr/</td>\n",
       "      <td>https://www.google.com/search?gl=us&amp;hl=en&amp;q=Gr...</td>\n",
       "      <td>https://encrypted-tbn0.gstatic.com/images?q=tb...</td>\n",
       "      <td>Groupe ADP</td>\n",
       "      <td>http://www.groupeadp.fr/</td>\n",
       "      <td>https://www.google.com/search?gl=us&amp;hl=en&amp;q=Gr...</td>\n",
       "      <td>https://encrypted-tbn0.gstatic.com/images?q=tb...</td>\n",
       "    </tr>\n",
       "    <tr>\n",
       "      <th>3</th>\n",
       "      <td>76</td>\n",
       "      <td>3</td>\n",
       "      <td>Data Engineer</td>\n",
       "      <td>Data Engineer</td>\n",
       "      <td>Denver, CO</td>\n",
       "      <td>via LinkedIn</td>\n",
       "      <td>Contractor</td>\n",
       "      <td>False</td>\n",
       "      <td>Illinois, United States</td>\n",
       "      <td>2023-04-03 17:14:45</td>\n",
       "      <td>...</td>\n",
       "      <td>NaN</td>\n",
       "      <td>70.0</td>\n",
       "      <td>Interactive Resources - iR</td>\n",
       "      <td>NaN</td>\n",
       "      <td>https://www.google.com/search?q=Interactive+Re...</td>\n",
       "      <td>https://encrypted-tbn0.gstatic.com/images?q=tb...</td>\n",
       "      <td>Interactive Resources - iR</td>\n",
       "      <td>NaN</td>\n",
       "      <td>https://www.google.com/search?q=Interactive+Re...</td>\n",
       "      <td>https://encrypted-tbn0.gstatic.com/images?q=tb...</td>\n",
       "    </tr>\n",
       "    <tr>\n",
       "      <th>4</th>\n",
       "      <td>81</td>\n",
       "      <td>4</td>\n",
       "      <td>Data Engineer</td>\n",
       "      <td>Data Engineer</td>\n",
       "      <td>Anywhere</td>\n",
       "      <td>via LinkedIn</td>\n",
       "      <td>Contractor</td>\n",
       "      <td>True</td>\n",
       "      <td>Canada</td>\n",
       "      <td>2023-03-25 17:25:20</td>\n",
       "      <td>...</td>\n",
       "      <td>NaN</td>\n",
       "      <td>NaN</td>\n",
       "      <td>Cybernetic Search</td>\n",
       "      <td>NaN</td>\n",
       "      <td>https://www.google.com/search?gl=us&amp;hl=en&amp;q=Cy...</td>\n",
       "      <td>https://encrypted-tbn0.gstatic.com/images?q=tb...</td>\n",
       "      <td>Cybernetic Search</td>\n",
       "      <td>NaN</td>\n",
       "      <td>https://www.google.com/search?gl=us&amp;hl=en&amp;q=Cy...</td>\n",
       "      <td>https://encrypted-tbn0.gstatic.com/images?q=tb...</td>\n",
       "    </tr>\n",
       "    <tr>\n",
       "      <th>...</th>\n",
       "      <td>...</td>\n",
       "      <td>...</td>\n",
       "      <td>...</td>\n",
       "      <td>...</td>\n",
       "      <td>...</td>\n",
       "      <td>...</td>\n",
       "      <td>...</td>\n",
       "      <td>...</td>\n",
       "      <td>...</td>\n",
       "      <td>...</td>\n",
       "      <td>...</td>\n",
       "      <td>...</td>\n",
       "      <td>...</td>\n",
       "      <td>...</td>\n",
       "      <td>...</td>\n",
       "      <td>...</td>\n",
       "      <td>...</td>\n",
       "      <td>...</td>\n",
       "      <td>...</td>\n",
       "      <td>...</td>\n",
       "      <td>...</td>\n",
       "    </tr>\n",
       "    <tr>\n",
       "      <th>787681</th>\n",
       "      <td>1146883</td>\n",
       "      <td>787681</td>\n",
       "      <td>Business Analyst</td>\n",
       "      <td>Commercial Analyst - Start Now</td>\n",
       "      <td>Malaysia</td>\n",
       "      <td>melalui Ricebowl</td>\n",
       "      <td>Pekerjaan tetap</td>\n",
       "      <td>False</td>\n",
       "      <td>Malaysia</td>\n",
       "      <td>2023-03-12 06:32:36</td>\n",
       "      <td>...</td>\n",
       "      <td>NaN</td>\n",
       "      <td>NaN</td>\n",
       "      <td>Lendlease Corporation</td>\n",
       "      <td>http://www.lendlease.com/</td>\n",
       "      <td>NaN</td>\n",
       "      <td>https://encrypted-tbn0.gstatic.com/images?q=tb...</td>\n",
       "      <td>Lendlease Corporation</td>\n",
       "      <td>http://www.lendlease.com/</td>\n",
       "      <td>NaN</td>\n",
       "      <td>https://encrypted-tbn0.gstatic.com/images?q=tb...</td>\n",
       "    </tr>\n",
       "    <tr>\n",
       "      <th>787682</th>\n",
       "      <td>1300468</td>\n",
       "      <td>31237</td>\n",
       "      <td>Data Analyst</td>\n",
       "      <td>CRM Data Analyst</td>\n",
       "      <td>Bad Rodach, Jerman</td>\n",
       "      <td>melalui BeBee Deutschland</td>\n",
       "      <td>Pekerjaan tetap</td>\n",
       "      <td>False</td>\n",
       "      <td>Germany</td>\n",
       "      <td>2023-03-12 06:18:18</td>\n",
       "      <td>...</td>\n",
       "      <td>NaN</td>\n",
       "      <td>NaN</td>\n",
       "      <td>HABA FAMILYGROUP</td>\n",
       "      <td>NaN</td>\n",
       "      <td>https://www.google.com/search?hl=en&amp;gl=us&amp;q=HA...</td>\n",
       "      <td>NaN</td>\n",
       "      <td>HABA FAMILYGROUP</td>\n",
       "      <td>NaN</td>\n",
       "      <td>https://www.google.com/search?hl=en&amp;gl=us&amp;q=HA...</td>\n",
       "      <td>NaN</td>\n",
       "    </tr>\n",
       "    <tr>\n",
       "      <th>787683</th>\n",
       "      <td>837368</td>\n",
       "      <td>948</td>\n",
       "      <td>Senior Data Engineer</td>\n",
       "      <td>Senior Data Engineer (m/w/d)</td>\n",
       "      <td>Düsseldorf, Jerman</td>\n",
       "      <td>melalui Monster.de</td>\n",
       "      <td>Pekerjaan tetap</td>\n",
       "      <td>False</td>\n",
       "      <td>Germany</td>\n",
       "      <td>2023-03-13 06:18:59</td>\n",
       "      <td>...</td>\n",
       "      <td>NaN</td>\n",
       "      <td>NaN</td>\n",
       "      <td>CGI Group, Inc.</td>\n",
       "      <td>http://www.cgi.com/</td>\n",
       "      <td>https://www.google.com/search?ucbcb=1&amp;hl=en&amp;gl...</td>\n",
       "      <td>https://encrypted-tbn0.gstatic.com/images?q=tb...</td>\n",
       "      <td>CGI Group, Inc.</td>\n",
       "      <td>http://www.cgi.com/</td>\n",
       "      <td>https://www.google.com/search?ucbcb=1&amp;hl=en&amp;gl...</td>\n",
       "      <td>https://encrypted-tbn0.gstatic.com/images?q=tb...</td>\n",
       "    </tr>\n",
       "    <tr>\n",
       "      <th>787684</th>\n",
       "      <td>1614901</td>\n",
       "      <td>948</td>\n",
       "      <td>Senior Data Engineer</td>\n",
       "      <td>(Senior) Data Engineer (m/w/d) - PUBLIC BW / C...</td>\n",
       "      <td>Leinfelden-Echterdingen, Jerman</td>\n",
       "      <td>melalui Monster.de</td>\n",
       "      <td>Pekerjaan tetap</td>\n",
       "      <td>False</td>\n",
       "      <td>Germany</td>\n",
       "      <td>2023-03-13 06:18:59</td>\n",
       "      <td>...</td>\n",
       "      <td>NaN</td>\n",
       "      <td>NaN</td>\n",
       "      <td>CGI Group, Inc.</td>\n",
       "      <td>http://www.cgi.com/</td>\n",
       "      <td>https://www.google.com/search?ucbcb=1&amp;hl=en&amp;gl...</td>\n",
       "      <td>https://encrypted-tbn0.gstatic.com/images?q=tb...</td>\n",
       "      <td>CGI Group, Inc.</td>\n",
       "      <td>http://www.cgi.com/</td>\n",
       "      <td>https://www.google.com/search?ucbcb=1&amp;hl=en&amp;gl...</td>\n",
       "      <td>https://encrypted-tbn0.gstatic.com/images?q=tb...</td>\n",
       "    </tr>\n",
       "    <tr>\n",
       "      <th>787685</th>\n",
       "      <td>1452207</td>\n",
       "      <td>154</td>\n",
       "      <td>Data Engineer</td>\n",
       "      <td>Principal Associate, Data Engineer (Remote-Eli...</td>\n",
       "      <td>Newark, New Jersey, Amerika Serikat</td>\n",
       "      <td>melalui Recruit.net</td>\n",
       "      <td>Pekerjaan tetap</td>\n",
       "      <td>False</td>\n",
       "      <td>Sudan</td>\n",
       "      <td>2023-03-12 06:32:15</td>\n",
       "      <td>...</td>\n",
       "      <td>NaN</td>\n",
       "      <td>NaN</td>\n",
       "      <td>Capital One</td>\n",
       "      <td>http://www.capitalone.com/</td>\n",
       "      <td>https://www.google.com/search?hl=en&amp;gl=us&amp;q=Ca...</td>\n",
       "      <td>https://encrypted-tbn0.gstatic.com/images?q=tb...</td>\n",
       "      <td>Capital One</td>\n",
       "      <td>http://www.capitalone.com/</td>\n",
       "      <td>https://www.google.com/search?hl=en&amp;gl=us&amp;q=Ca...</td>\n",
       "      <td>https://encrypted-tbn0.gstatic.com/images?q=tb...</td>\n",
       "    </tr>\n",
       "  </tbody>\n",
       "</table>\n",
       "<p>787686 rows × 24 columns</p>\n",
       "</div>"
      ],
      "text/plain": [
       "         job_id  company_id       job_title_short  \\\n",
       "0             0           0          Data Analyst   \n",
       "1            55           1        Cloud Engineer   \n",
       "2            66           2          Data Analyst   \n",
       "3            76           3         Data Engineer   \n",
       "4            81           4         Data Engineer   \n",
       "...         ...         ...                   ...   \n",
       "787681  1146883      787681      Business Analyst   \n",
       "787682  1300468       31237          Data Analyst   \n",
       "787683   837368         948  Senior Data Engineer   \n",
       "787684  1614901         948  Senior Data Engineer   \n",
       "787685  1452207         154         Data Engineer   \n",
       "\n",
       "                                                job_title  \\\n",
       "0                                  Marketing Data Analyst   \n",
       "1                     Storage and Virtualization Engineer   \n",
       "2                           Data Analyst et Scientist F/H   \n",
       "3                                           Data Engineer   \n",
       "4                                           Data Engineer   \n",
       "...                                                   ...   \n",
       "787681                     Commercial Analyst - Start Now   \n",
       "787682                                   CRM Data Analyst   \n",
       "787683                       Senior Data Engineer (m/w/d)   \n",
       "787684  (Senior) Data Engineer (m/w/d) - PUBLIC BW / C...   \n",
       "787685  Principal Associate, Data Engineer (Remote-Eli...   \n",
       "\n",
       "                               job_location                    job_via  \\\n",
       "0                                  Anywhere               via LinkedIn   \n",
       "1                       Kuwait City, Kuwait            via Trabajo.org   \n",
       "2                             Paris, France    via Emplois Trabajo.org   \n",
       "3                                Denver, CO               via LinkedIn   \n",
       "4                                  Anywhere               via LinkedIn   \n",
       "...                                     ...                        ...   \n",
       "787681                             Malaysia           melalui Ricebowl   \n",
       "787682                   Bad Rodach, Jerman  melalui BeBee Deutschland   \n",
       "787683                   Düsseldorf, Jerman         melalui Monster.de   \n",
       "787684      Leinfelden-Echterdingen, Jerman         melalui Monster.de   \n",
       "787685  Newark, New Jersey, Amerika Serikat        melalui Recruit.net   \n",
       "\n",
       "       job_schedule_type  job_work_from_home          search_location  \\\n",
       "0              Full-time                True                   Serbia   \n",
       "1              Full-time               False                   Kuwait   \n",
       "2              Full-time               False                   France   \n",
       "3             Contractor               False  Illinois, United States   \n",
       "4             Contractor                True                   Canada   \n",
       "...                  ...                 ...                      ...   \n",
       "787681   Pekerjaan tetap               False                 Malaysia   \n",
       "787682   Pekerjaan tetap               False                  Germany   \n",
       "787683   Pekerjaan tetap               False                  Germany   \n",
       "787684   Pekerjaan tetap               False                  Germany   \n",
       "787685   Pekerjaan tetap               False                    Sudan   \n",
       "\n",
       "            job_posted_date  ...  salary_year_avg  salary_hour_avg  \\\n",
       "0       2023-09-25 17:46:06  ...              NaN              NaN   \n",
       "1       2023-07-30 17:49:18  ...              NaN              NaN   \n",
       "2       2023-07-28 17:28:01  ...              NaN              NaN   \n",
       "3       2023-04-03 17:14:45  ...              NaN             70.0   \n",
       "4       2023-03-25 17:25:20  ...              NaN              NaN   \n",
       "...                     ...  ...              ...              ...   \n",
       "787681  2023-03-12 06:32:36  ...              NaN              NaN   \n",
       "787682  2023-03-12 06:18:18  ...              NaN              NaN   \n",
       "787683  2023-03-13 06:18:59  ...              NaN              NaN   \n",
       "787684  2023-03-13 06:18:59  ...              NaN              NaN   \n",
       "787685  2023-03-12 06:32:15  ...              NaN              NaN   \n",
       "\n",
       "                          name_dim                    link_dim  \\\n",
       "0                       Cryptology                         NaN   \n",
       "1                           Edraak                         NaN   \n",
       "2                       Groupe ADP    http://www.groupeadp.fr/   \n",
       "3       Interactive Resources - iR                         NaN   \n",
       "4                Cybernetic Search                         NaN   \n",
       "...                            ...                         ...   \n",
       "787681       Lendlease Corporation   http://www.lendlease.com/   \n",
       "787682            HABA FAMILYGROUP                         NaN   \n",
       "787683             CGI Group, Inc.         http://www.cgi.com/   \n",
       "787684             CGI Group, Inc.         http://www.cgi.com/   \n",
       "787685                 Capital One  http://www.capitalone.com/   \n",
       "\n",
       "                                          link_google_dim  \\\n",
       "0       https://www.google.com/search?sca_esv=56842508...   \n",
       "1       https://www.google.com/search?hl=en&gl=us&q=Ed...   \n",
       "2       https://www.google.com/search?gl=us&hl=en&q=Gr...   \n",
       "3       https://www.google.com/search?q=Interactive+Re...   \n",
       "4       https://www.google.com/search?gl=us&hl=en&q=Cy...   \n",
       "...                                                   ...   \n",
       "787681                                                NaN   \n",
       "787682  https://www.google.com/search?hl=en&gl=us&q=HA...   \n",
       "787683  https://www.google.com/search?ucbcb=1&hl=en&gl...   \n",
       "787684  https://www.google.com/search?ucbcb=1&hl=en&gl...   \n",
       "787685  https://www.google.com/search?hl=en&gl=us&q=Ca...   \n",
       "\n",
       "                                            thumbnail_dim  \\\n",
       "0       https://encrypted-tbn0.gstatic.com/images?q=tb...   \n",
       "1       https://encrypted-tbn0.gstatic.com/images?q=tb...   \n",
       "2       https://encrypted-tbn0.gstatic.com/images?q=tb...   \n",
       "3       https://encrypted-tbn0.gstatic.com/images?q=tb...   \n",
       "4       https://encrypted-tbn0.gstatic.com/images?q=tb...   \n",
       "...                                                   ...   \n",
       "787681  https://encrypted-tbn0.gstatic.com/images?q=tb...   \n",
       "787682                                                NaN   \n",
       "787683  https://encrypted-tbn0.gstatic.com/images?q=tb...   \n",
       "787684  https://encrypted-tbn0.gstatic.com/images?q=tb...   \n",
       "787685  https://encrypted-tbn0.gstatic.com/images?q=tb...   \n",
       "\n",
       "                         name_dims                   link_dims  \\\n",
       "0                       Cryptology                         NaN   \n",
       "1                           Edraak                         NaN   \n",
       "2                       Groupe ADP    http://www.groupeadp.fr/   \n",
       "3       Interactive Resources - iR                         NaN   \n",
       "4                Cybernetic Search                         NaN   \n",
       "...                            ...                         ...   \n",
       "787681       Lendlease Corporation   http://www.lendlease.com/   \n",
       "787682            HABA FAMILYGROUP                         NaN   \n",
       "787683             CGI Group, Inc.         http://www.cgi.com/   \n",
       "787684             CGI Group, Inc.         http://www.cgi.com/   \n",
       "787685                 Capital One  http://www.capitalone.com/   \n",
       "\n",
       "                                         link_google_dims  \\\n",
       "0       https://www.google.com/search?sca_esv=56842508...   \n",
       "1       https://www.google.com/search?hl=en&gl=us&q=Ed...   \n",
       "2       https://www.google.com/search?gl=us&hl=en&q=Gr...   \n",
       "3       https://www.google.com/search?q=Interactive+Re...   \n",
       "4       https://www.google.com/search?gl=us&hl=en&q=Cy...   \n",
       "...                                                   ...   \n",
       "787681                                                NaN   \n",
       "787682  https://www.google.com/search?hl=en&gl=us&q=HA...   \n",
       "787683  https://www.google.com/search?ucbcb=1&hl=en&gl...   \n",
       "787684  https://www.google.com/search?ucbcb=1&hl=en&gl...   \n",
       "787685  https://www.google.com/search?hl=en&gl=us&q=Ca...   \n",
       "\n",
       "                                           thumbnail_dims  \n",
       "0       https://encrypted-tbn0.gstatic.com/images?q=tb...  \n",
       "1       https://encrypted-tbn0.gstatic.com/images?q=tb...  \n",
       "2       https://encrypted-tbn0.gstatic.com/images?q=tb...  \n",
       "3       https://encrypted-tbn0.gstatic.com/images?q=tb...  \n",
       "4       https://encrypted-tbn0.gstatic.com/images?q=tb...  \n",
       "...                                                   ...  \n",
       "787681  https://encrypted-tbn0.gstatic.com/images?q=tb...  \n",
       "787682                                                NaN  \n",
       "787683  https://encrypted-tbn0.gstatic.com/images?q=tb...  \n",
       "787684  https://encrypted-tbn0.gstatic.com/images?q=tb...  \n",
       "787685  https://encrypted-tbn0.gstatic.com/images?q=tb...  \n",
       "\n",
       "[787686 rows x 24 columns]"
      ]
     },
     "execution_count": 10,
     "metadata": {},
     "output_type": "execute_result"
    }
   ],
   "source": [
    "# Merge the job postings with company_dim and company_dims on company_id\n",
    "merged_df = job_postings_df.merge(company_dim_df, on='company_id', how='left').merge(company_dim_df, on='company_id', how='left', suffixes=('_dim', '_dims'))\n",
    "merged_df"
   ]
  },
  {
   "cell_type": "code",
   "execution_count": 11,
   "id": "f124b9a6",
   "metadata": {
    "execution": {
     "iopub.execute_input": "2024-06-06T14:04:19.359157Z",
     "iopub.status.busy": "2024-06-06T14:04:19.358764Z",
     "iopub.status.idle": "2024-06-06T14:04:19.551982Z",
     "shell.execute_reply": "2024-06-06T14:04:19.550941Z"
    },
    "papermill": {
     "duration": 0.203172,
     "end_time": "2024-06-06T14:04:19.554106",
     "exception": false,
     "start_time": "2024-06-06T14:04:19.350934",
     "status": "completed"
    },
    "tags": []
   },
   "outputs": [
    {
     "name": "stdout",
     "output_type": "stream",
     "text": [
      "Number of Job Postings per Company:\n"
     ]
    },
    {
     "data": {
      "text/plain": [
       "name_dim\n",
       "Emprego                6661\n",
       "Booz Allen Hamilton    2890\n",
       "Dice                   2825\n",
       "Harnham                2551\n",
       "Insight Global         2254\n",
       "Name: count, dtype: int64"
      ]
     },
     "execution_count": 11,
     "metadata": {},
     "output_type": "execute_result"
    }
   ],
   "source": [
    "#Analysis 1: Number of job postings per company\n",
    "job_postings_per_company = merged_df['name_dim'].value_counts()\n",
    "\n",
    "# Display the results of the analyses\n",
    "print(\"Number of Job Postings per Company:\")\n",
    "job_postings_per_company.head()"
   ]
  },
  {
   "cell_type": "code",
   "execution_count": 12,
   "id": "182cc0c6",
   "metadata": {
    "execution": {
     "iopub.execute_input": "2024-06-06T14:04:19.569383Z",
     "iopub.status.busy": "2024-06-06T14:04:19.568959Z",
     "iopub.status.idle": "2024-06-06T14:04:19.948030Z",
     "shell.execute_reply": "2024-06-06T14:04:19.946925Z"
    },
    "papermill": {
     "duration": 0.389463,
     "end_time": "2024-06-06T14:04:19.950283",
     "exception": false,
     "start_time": "2024-06-06T14:04:19.560820",
     "status": "completed"
    },
    "tags": []
   },
   "outputs": [
    {
     "data": {
      "text/plain": [
       "name_dim\n",
       "\"Dbank\"                                       NaN\n",
       "\"Hamkorbank\" АТБ                              NaN\n",
       "\"KELKOO\"                                      NaN\n",
       "\"PASHA Holding\" LLC                           NaN\n",
       "\"TECHNICUS LTD\" sp. z o.o. ODDZIAŁ W POLSCE   NaN\n",
       "                                               ..\n",
       "𝐏𝐓 𝐌𝐢𝐭𝐫𝐚 𝐏𝐢𝐧𝐚𝐬𝐭𝐡𝐢𝐤𝐚 𝐌𝐮𝐬𝐭𝐢𝐤𝐚 𝐑𝐞𝐧𝐭 (𝐌𝐏𝐌 𝐑𝐞𝐧𝐭)   NaN\n",
       "🇮🇳 easyfix.in                                 NaN\n",
       "🏛️WalletConnect                               NaN\n",
       "💻 LGA IT                                      NaN\n",
       "💾Data Trust Associates                        NaN\n",
       "Name: salary_year_avg, Length: 140030, dtype: float64"
      ]
     },
     "execution_count": 12,
     "metadata": {},
     "output_type": "execute_result"
    }
   ],
   "source": [
    "#Analysis 2: Average salary by company (salary_year_avg)\n",
    "average_salary_by_company = merged_df.groupby('name_dim')['salary_year_avg'].mean()\n",
    "average_salary_by_company"
   ]
  },
  {
   "cell_type": "code",
   "execution_count": 13,
   "id": "a00b951d",
   "metadata": {
    "execution": {
     "iopub.execute_input": "2024-06-06T14:04:19.965672Z",
     "iopub.status.busy": "2024-06-06T14:04:19.965309Z",
     "iopub.status.idle": "2024-06-06T14:04:20.069529Z",
     "shell.execute_reply": "2024-06-06T14:04:20.068416Z"
    },
    "papermill": {
     "duration": 0.1147,
     "end_time": "2024-06-06T14:04:20.071919",
     "exception": false,
     "start_time": "2024-06-06T14:04:19.957219",
     "status": "completed"
    },
    "tags": []
   },
   "outputs": [
    {
     "data": {
      "text/plain": [
       "job_location\n",
       "Anywhere                               69606\n",
       "Singapore                              23423\n",
       "Paris, France                          12354\n",
       "Bengaluru, Karnataka, India            11517\n",
       "London, UK                             10578\n",
       "                                       ...  \n",
       "Dorchester, UK                             1\n",
       "Germany   (+9 others)                      1\n",
       "Planá nad Lužnicí, Czechia                 1\n",
       "Edenton, NC                                1\n",
       "Newark, New Jersey, Amerika Serikat        1\n",
       "Name: count, Length: 17222, dtype: int64"
      ]
     },
     "execution_count": 13,
     "metadata": {},
     "output_type": "execute_result"
    }
   ],
   "source": [
    "# Analysis 3: Job distribution by location\n",
    "job_distribution_by_location = merged_df['job_location'].value_counts()\n",
    "job_distribution_by_location"
   ]
  },
  {
   "cell_type": "code",
   "execution_count": 14,
   "id": "3fedb846",
   "metadata": {
    "execution": {
     "iopub.execute_input": "2024-06-06T14:04:20.088365Z",
     "iopub.status.busy": "2024-06-06T14:04:20.087915Z",
     "iopub.status.idle": "2024-06-06T14:04:20.102178Z",
     "shell.execute_reply": "2024-06-06T14:04:20.101172Z"
    },
    "papermill": {
     "duration": 0.025006,
     "end_time": "2024-06-06T14:04:20.104399",
     "exception": false,
     "start_time": "2024-06-06T14:04:20.079393",
     "status": "completed"
    },
    "tags": []
   },
   "outputs": [
    {
     "name": "stdout",
     "output_type": "stream",
     "text": [
      "Missing Salary Data:\n"
     ]
    },
    {
     "data": {
      "text/plain": [
       "salary_year_avg    765652\n",
       "salary_hour_avg    777021\n",
       "dtype: int64"
      ]
     },
     "execution_count": 14,
     "metadata": {},
     "output_type": "execute_result"
    }
   ],
   "source": [
    "# Check for missing salary data\n",
    "print(\"Missing Salary Data:\")\n",
    "missing_salary_data = merged_df[['salary_year_avg', 'salary_hour_avg']].isnull().sum()\n",
    "missing_salary_data"
   ]
  },
  {
   "cell_type": "code",
   "execution_count": 15,
   "id": "7122f8f8",
   "metadata": {
    "execution": {
     "iopub.execute_input": "2024-06-06T14:04:20.120954Z",
     "iopub.status.busy": "2024-06-06T14:04:20.120604Z",
     "iopub.status.idle": "2024-06-06T14:04:20.187221Z",
     "shell.execute_reply": "2024-06-06T14:04:20.185946Z"
    },
    "papermill": {
     "duration": 0.077782,
     "end_time": "2024-06-06T14:04:20.189811",
     "exception": false,
     "start_time": "2024-06-06T14:04:20.112029",
     "status": "completed"
    },
    "tags": []
   },
   "outputs": [
    {
     "data": {
      "text/plain": [
       "job_schedule_type\n",
       "Full-time                                703597\n",
       "Contractor                                34827\n",
       "Internship                                 8752\n",
       "Part-time                                  7888\n",
       "Full-time and Part-time                    6288\n",
       "Full-time and Temp work                    2622\n",
       "Full-time and Internship                   2336\n",
       "Full-time and Contractor                   2291\n",
       "Contractor and Temp work                   2281\n",
       "Temp work                                  2157\n",
       "Full-time, Part-time, and Internship        266\n",
       "Part-time and Internship                    254\n",
       "Temp work and Internship                    208\n",
       "Full-time, Contractor, and Temp work        186\n",
       "Full-time, Temp work, and Internship        175\n",
       "Part-time and Contractor                    159\n",
       "Full-time, Part-time, and Temp work         129\n",
       "Full-time, Part-time, and Contractor        114\n",
       "Part-time and Temp work                     111\n",
       "Pekerjaan tetap                              58\n",
       "Volunteer                                    50\n",
       "Full-time and Per diem                       43\n",
       "Contractor and Internship                    42\n",
       "Full-time, Contractor, and Internship        29\n",
       "Part-time, Contractor, and Temp work         20\n",
       "Per diem                                     20\n",
       "Part-time and Full-time                      19\n",
       "Part-time, Temp work, and Internship         12\n",
       "Full-time and Volunteer                       9\n",
       "Part-time and Per diem                        5\n",
       "Contractor and Per diem                       4\n",
       "Contractor and Part-time                      3\n",
       "Internship and Full-time                      3\n",
       "Full-time, Temp work, and Per diem            3\n",
       "Contractor, Temp work, and Internship         3\n",
       "Full-time, Part-time, and Volunteer           2\n",
       "Part-time and Volunteer                       2\n",
       "Full-time, Contractor, and Volunteer          2\n",
       "Contractor and Full-time                      2\n",
       "Kontraktor                                    2\n",
       "Part-time, Contractor, and Internship         1\n",
       "Internship and Per diem                       1\n",
       "Temp work and Full-time                       1\n",
       "Temp work, Full-time, and Part-time           1\n",
       "Full-time, Part-time, and Per diem            1\n",
       "Internship and Volunteer                      1\n",
       "Part-time, Internship, and Volunteer          1\n",
       "Name: count, dtype: int64"
      ]
     },
     "execution_count": 15,
     "metadata": {},
     "output_type": "execute_result"
    }
   ],
   "source": [
    "# Job distribution by job schedule type\n",
    "job_distribution_by_schedule = merged_df['job_schedule_type'].value_counts()\n",
    "job_distribution_by_schedule"
   ]
  },
  {
   "cell_type": "code",
   "execution_count": 16,
   "id": "4a106e61",
   "metadata": {
    "execution": {
     "iopub.execute_input": "2024-06-06T14:04:20.206965Z",
     "iopub.status.busy": "2024-06-06T14:04:20.206589Z",
     "iopub.status.idle": "2024-06-06T14:04:20.563974Z",
     "shell.execute_reply": "2024-06-06T14:04:20.562741Z"
    },
    "papermill": {
     "duration": 0.369183,
     "end_time": "2024-06-06T14:04:20.566528",
     "exception": false,
     "start_time": "2024-06-06T14:04:20.197345",
     "status": "completed"
    },
    "tags": []
   },
   "outputs": [
    {
     "data": {
      "image/png": "[encoded data removed]",
      "text/plain": [
       "<Figure size 1000x600 with 1 Axes>"
      ]
     },
     "metadata": {},
     "output_type": "display_data"
    }
   ],
   "source": [
    "# Visualization: Job Distribution by Location\n",
    "plt.figure(figsize=(10, 6))\n",
    "job_distribution_by_location.head(10).plot(kind='bar')\n",
    "plt.title('Job Distribution by Location (Top 10)')\n",
    "plt.xlabel('Location')\n",
    "plt.ylabel('Number of Jobs')\n",
    "plt.show()"
   ]
  },
  {
   "cell_type": "code",
   "execution_count": 17,
   "id": "1363d2b3",
   "metadata": {
    "execution": {
     "iopub.execute_input": "2024-06-06T14:04:20.585421Z",
     "iopub.status.busy": "2024-06-06T14:04:20.585004Z",
     "iopub.status.idle": "2024-06-06T14:04:20.862630Z",
     "shell.execute_reply": "2024-06-06T14:04:20.861405Z"
    },
    "papermill": {
     "duration": 0.290269,
     "end_time": "2024-06-06T14:04:20.865204",
     "exception": false,
     "start_time": "2024-06-06T14:04:20.574935",
     "status": "completed"
    },
    "tags": []
   },
   "outputs": [
    {
     "data": {
      "image/png": "[encoded data removed]",
      "text/plain": [
       "<Figure size 1000x600 with 1 Axes>"
      ]
     },
     "metadata": {},
     "output_type": "display_data"
    }
   ],
   "source": [
    "# Visualization: Job Distribution by Job Schedule Type\n",
    "plt.figure(figsize=(10, 6))\n",
    "job_distribution_by_schedule.head(10).plot(kind='line')\n",
    "plt.title('Job Distribution by Job Schedule Type')\n",
    "plt.xlabel('Schedule Type')\n",
    "plt.ylabel('Number of Jobs')\n",
    "plt.show()"
   ]
  }
 ],
 "metadata": {
  "kaggle": {
   "accelerator": "none",
   "dataSources": [
    {
     "datasetId": 5162528,
     "sourceId": 8623537,
     "sourceType": "datasetVersion"
    }
   ],
   "dockerImageVersionId": 30732,
   "isGpuEnabled": false,
   "isInternetEnabled": true,
   "language": "python",
   "sourceType": "notebook"
  },
  "kernelspec": {
   "display_name": "Python 3",
   "language": "python",
   "name": "python3"
  },
  "language_info": {
   "codemirror_mode": {
    "name": "ipython",
    "version": 3
   },
   "file_extension": ".py",
   "mimetype": "text/x-python",
   "name": "python",
   "nbconvert_exporter": "python",
   "pygments_lexer": "ipython3",
   "version": "3.10.13"
  },
  "papermill": {
   "default_parameters": {},
   "duration": 15.068875,
   "end_time": "2024-06-06T14:04:21.495485",
   "environment_variables": {},
   "exception": null,
   "input_path": "__notebook__.ipynb",
   "output_path": "__notebook__.ipynb",
   "parameters": {},
   "start_time": "2024-06-06T14:04:06.426610",
   "version": "2.5.0"
  }
 },
 "nbformat": 4,
 "nbformat_minor": 5
}
